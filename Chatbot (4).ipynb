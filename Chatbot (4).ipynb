{
  "nbformat": 4,
  "nbformat_minor": 0,
  "metadata": {
    "colab": {
      "provenance": [],
      "gpuType": "T4"
    },
    "kernelspec": {
      "name": "python3",
      "display_name": "Python 3"
    },
    "language_info": {
      "name": "python"
    },
    "accelerator": "GPU"
  },
  "cells": [
    {
      "cell_type": "markdown",
      "source": [
        "# ***Problem Statement***\n",
        "\n",
        "Traditional chatbots struggle with context-aware question answering where they need to:\n",
        "- Understand and remember story context\n",
        "- Process natural language questions\n",
        "- Provide accurate answers based on stored information"
      ],
      "metadata": {
        "id": "6YGvQyS7Ws8L"
      }
    },
    {
      "cell_type": "markdown",
      "source": [
        "# ***Objective***\n",
        "\n",
        "Build an intelligent chatbot that can:\n",
        "1. Process story contexts and questions\n",
        "2. Learn relationships between entities and locations\n",
        "3. Answer questions accurately based on stored memories\n",
        "4. Handle simple reasoning tasks (e.g., \"Is John in the kitchen?\")"
      ],
      "metadata": {
        "id": "WQAn3zfXW5pk"
      }
    },
    {
      "cell_type": "markdown",
      "source": [
        "# ***Key Challenges Addressed***\n",
        "- Context retention and memory management\n",
        "- Natural language understanding\n",
        "- Sequence-to-sequence learning\n",
        "- Multi-modal input processing (stories + questions)\n"
      ],
      "metadata": {
        "id": "LdHkf2h-XEwt"
      }
    },
    {
      "cell_type": "markdown",
      "source": [
        "# ***ENVIRONMENT SETUP & LIBRARY IMPORTS***"
      ],
      "metadata": {
        "id": "wxtSBJEYYDu0"
      }
    },
    {
      "cell_type": "code",
      "source": [
        "# Install required packages\n",
        "!pip install keras tensorflow numpy pandas matplotlib\n",
        "\n",
        "# Import essential libraries\n",
        "import pickle\n",
        "import numpy as np\n",
        "import pandas as pd\n",
        "import matplotlib.pyplot as plt\n",
        "from sklearn.metrics import accuracy_score, classification_report, confusion_matrix\n",
        "import seaborn as sns\n",
        "\n",
        "# Keras/TensorFlow imports for deep learning\n",
        "import tensorflow as tf\n",
        "from tensorflow.keras.preprocessing.sequence import pad_sequences\n",
        "from tensorflow.keras.preprocessing.text import Tokenizer\n",
        "from tensorflow.keras.models import Sequential, Model, load_model\n",
        "from tensorflow.keras.layers import (Embedding, Input, Activation, Dense,\n",
        "                                   Permute, Dropout, add, dot, concatenate, LSTM)\n",
        "from tensorflow.keras.optimizers import RMSprop\n",
        "from tensorflow.keras.callbacks import EarlyStopping, ModelCheckpoint\n",
        "\n",
        "print(\"✅ All libraries imported successfully!\")\n",
        "print(f\"TensorFlow version: {tf.__version__}\")"
      ],
      "metadata": {
        "colab": {
          "base_uri": "https://localhost:8080/",
          "height": 0
        },
        "id": "w77Pu6mJYBO4",
        "outputId": "38c4b425-bbe3-419f-a4cb-c98c882ff1c8"
      },
      "execution_count": 1,
      "outputs": [
        {
          "output_type": "stream",
          "name": "stdout",
          "text": [
            "Requirement already satisfied: keras in /usr/local/lib/python3.12/dist-packages (3.10.0)\n",
            "Requirement already satisfied: tensorflow in /usr/local/lib/python3.12/dist-packages (2.19.0)\n",
            "Requirement already satisfied: numpy in /usr/local/lib/python3.12/dist-packages (2.0.2)\n",
            "Requirement already satisfied: pandas in /usr/local/lib/python3.12/dist-packages (2.2.2)\n",
            "Requirement already satisfied: matplotlib in /usr/local/lib/python3.12/dist-packages (3.10.0)\n",
            "Requirement already satisfied: absl-py in /usr/local/lib/python3.12/dist-packages (from keras) (1.4.0)\n",
            "Requirement already satisfied: rich in /usr/local/lib/python3.12/dist-packages (from keras) (13.9.4)\n",
            "Requirement already satisfied: namex in /usr/local/lib/python3.12/dist-packages (from keras) (0.1.0)\n",
            "Requirement already satisfied: h5py in /usr/local/lib/python3.12/dist-packages (from keras) (3.14.0)\n",
            "Requirement already satisfied: optree in /usr/local/lib/python3.12/dist-packages (from keras) (0.17.0)\n",
            "Requirement already satisfied: ml-dtypes in /usr/local/lib/python3.12/dist-packages (from keras) (0.5.3)\n",
            "Requirement already satisfied: packaging in /usr/local/lib/python3.12/dist-packages (from keras) (25.0)\n",
            "Requirement already satisfied: astunparse>=1.6.0 in /usr/local/lib/python3.12/dist-packages (from tensorflow) (1.6.3)\n",
            "Requirement already satisfied: flatbuffers>=24.3.25 in /usr/local/lib/python3.12/dist-packages (from tensorflow) (25.2.10)\n",
            "Requirement already satisfied: gast!=0.5.0,!=0.5.1,!=0.5.2,>=0.2.1 in /usr/local/lib/python3.12/dist-packages (from tensorflow) (0.6.0)\n",
            "Requirement already satisfied: google-pasta>=0.1.1 in /usr/local/lib/python3.12/dist-packages (from tensorflow) (0.2.0)\n",
            "Requirement already satisfied: libclang>=13.0.0 in /usr/local/lib/python3.12/dist-packages (from tensorflow) (18.1.1)\n",
            "Requirement already satisfied: opt-einsum>=2.3.2 in /usr/local/lib/python3.12/dist-packages (from tensorflow) (3.4.0)\n",
            "Requirement already satisfied: protobuf!=4.21.0,!=4.21.1,!=4.21.2,!=4.21.3,!=4.21.4,!=4.21.5,<6.0.0dev,>=3.20.3 in /usr/local/lib/python3.12/dist-packages (from tensorflow) (5.29.5)\n",
            "Requirement already satisfied: requests<3,>=2.21.0 in /usr/local/lib/python3.12/dist-packages (from tensorflow) (2.32.4)\n",
            "Requirement already satisfied: setuptools in /usr/local/lib/python3.12/dist-packages (from tensorflow) (75.2.0)\n",
            "Requirement already satisfied: six>=1.12.0 in /usr/local/lib/python3.12/dist-packages (from tensorflow) (1.17.0)\n",
            "Requirement already satisfied: termcolor>=1.1.0 in /usr/local/lib/python3.12/dist-packages (from tensorflow) (3.1.0)\n",
            "Requirement already satisfied: typing-extensions>=3.6.6 in /usr/local/lib/python3.12/dist-packages (from tensorflow) (4.14.1)\n",
            "Requirement already satisfied: wrapt>=1.11.0 in /usr/local/lib/python3.12/dist-packages (from tensorflow) (1.17.3)\n",
            "Requirement already satisfied: grpcio<2.0,>=1.24.3 in /usr/local/lib/python3.12/dist-packages (from tensorflow) (1.74.0)\n",
            "Requirement already satisfied: tensorboard~=2.19.0 in /usr/local/lib/python3.12/dist-packages (from tensorflow) (2.19.0)\n",
            "Requirement already satisfied: python-dateutil>=2.8.2 in /usr/local/lib/python3.12/dist-packages (from pandas) (2.9.0.post0)\n",
            "Requirement already satisfied: pytz>=2020.1 in /usr/local/lib/python3.12/dist-packages (from pandas) (2025.2)\n",
            "Requirement already satisfied: tzdata>=2022.7 in /usr/local/lib/python3.12/dist-packages (from pandas) (2025.2)\n",
            "Requirement already satisfied: contourpy>=1.0.1 in /usr/local/lib/python3.12/dist-packages (from matplotlib) (1.3.3)\n",
            "Requirement already satisfied: cycler>=0.10 in /usr/local/lib/python3.12/dist-packages (from matplotlib) (0.12.1)\n",
            "Requirement already satisfied: fonttools>=4.22.0 in /usr/local/lib/python3.12/dist-packages (from matplotlib) (4.59.1)\n",
            "Requirement already satisfied: kiwisolver>=1.3.1 in /usr/local/lib/python3.12/dist-packages (from matplotlib) (1.4.9)\n",
            "Requirement already satisfied: pillow>=8 in /usr/local/lib/python3.12/dist-packages (from matplotlib) (11.3.0)\n",
            "Requirement already satisfied: pyparsing>=2.3.1 in /usr/local/lib/python3.12/dist-packages (from matplotlib) (3.2.3)\n",
            "Requirement already satisfied: wheel<1.0,>=0.23.0 in /usr/local/lib/python3.12/dist-packages (from astunparse>=1.6.0->tensorflow) (0.45.1)\n",
            "Requirement already satisfied: charset_normalizer<4,>=2 in /usr/local/lib/python3.12/dist-packages (from requests<3,>=2.21.0->tensorflow) (3.4.3)\n",
            "Requirement already satisfied: idna<4,>=2.5 in /usr/local/lib/python3.12/dist-packages (from requests<3,>=2.21.0->tensorflow) (3.10)\n",
            "Requirement already satisfied: urllib3<3,>=1.21.1 in /usr/local/lib/python3.12/dist-packages (from requests<3,>=2.21.0->tensorflow) (2.5.0)\n",
            "Requirement already satisfied: certifi>=2017.4.17 in /usr/local/lib/python3.12/dist-packages (from requests<3,>=2.21.0->tensorflow) (2025.8.3)\n",
            "Requirement already satisfied: markdown>=2.6.8 in /usr/local/lib/python3.12/dist-packages (from tensorboard~=2.19.0->tensorflow) (3.8.2)\n",
            "Requirement already satisfied: tensorboard-data-server<0.8.0,>=0.7.0 in /usr/local/lib/python3.12/dist-packages (from tensorboard~=2.19.0->tensorflow) (0.7.2)\n",
            "Requirement already satisfied: werkzeug>=1.0.1 in /usr/local/lib/python3.12/dist-packages (from tensorboard~=2.19.0->tensorflow) (3.1.3)\n",
            "Requirement already satisfied: markdown-it-py>=2.2.0 in /usr/local/lib/python3.12/dist-packages (from rich->keras) (4.0.0)\n",
            "Requirement already satisfied: pygments<3.0.0,>=2.13.0 in /usr/local/lib/python3.12/dist-packages (from rich->keras) (2.19.2)\n",
            "Requirement already satisfied: mdurl~=0.1 in /usr/local/lib/python3.12/dist-packages (from markdown-it-py>=2.2.0->rich->keras) (0.1.2)\n",
            "Requirement already satisfied: MarkupSafe>=2.1.1 in /usr/local/lib/python3.12/dist-packages (from werkzeug>=1.0.1->tensorboard~=2.19.0->tensorflow) (3.0.2)\n",
            "✅ All libraries imported successfully!\n",
            "TensorFlow version: 2.19.0\n"
          ]
        }
      ]
    },
    {
      "cell_type": "markdown",
      "source": [
        "# ***Data Structure Overview***"
      ],
      "metadata": {
        "id": "j9K27c-pZp0I"
      }
    },
    {
      "cell_type": "code",
      "source": [
        "from google.colab import drive\n",
        "drive.mount('/content/drive')"
      ],
      "metadata": {
        "colab": {
          "base_uri": "https://localhost:8080/",
          "height": 0
        },
        "id": "5dKfCtSAWrh0",
        "outputId": "729260c3-6c9c-4b8f-b333-f2b3d225eaca"
      },
      "execution_count": 2,
      "outputs": [
        {
          "output_type": "stream",
          "name": "stdout",
          "text": [
            "Drive already mounted at /content/drive; to attempt to forcibly remount, call drive.mount(\"/content/drive\", force_remount=True).\n"
          ]
        }
      ]
    },
    {
      "cell_type": "code",
      "source": [
        "with open(\"/content/drive/MyDrive/Chatbot_NLP/Train-Data Set.txt\", \"rb\") as fp:\n",
        "    Train_data = pickle.load(fp)"
      ],
      "metadata": {
        "id": "d26Zg35yV5QO"
      },
      "execution_count": 3,
      "outputs": []
    },
    {
      "cell_type": "code",
      "source": [
        "with open(\"/content/drive/MyDrive/Chatbot_NLP/Test-Data Set.txt\", \"rb\") as fp:\n",
        "    Test_data = pickle.load(fp)"
      ],
      "metadata": {
        "id": "1Kl36go6bN7h"
      },
      "execution_count": 4,
      "outputs": []
    },
    {
      "cell_type": "code",
      "source": [
        "print(Test_data[:5])"
      ],
      "metadata": {
        "colab": {
          "base_uri": "https://localhost:8080/",
          "height": 0
        },
        "id": "mIDoP5WuJ9Wr",
        "outputId": "5c2ecd73-1811-48f1-ae97-4bcaf086339e"
      },
      "execution_count": 5,
      "outputs": [
        {
          "output_type": "stream",
          "name": "stdout",
          "text": [
            "[(['Mary', 'got', 'the', 'milk', 'there', '.', 'John', 'moved', 'to', 'the', 'bedroom', '.'], ['Is', 'John', 'in', 'the', 'kitchen', '?'], 'no'), (['Mary', 'got', 'the', 'milk', 'there', '.', 'John', 'moved', 'to', 'the', 'bedroom', '.', 'Mary', 'discarded', 'the', 'milk', '.', 'John', 'went', 'to', 'the', 'garden', '.'], ['Is', 'John', 'in', 'the', 'kitchen', '?'], 'no'), (['Mary', 'got', 'the', 'milk', 'there', '.', 'John', 'moved', 'to', 'the', 'bedroom', '.', 'Mary', 'discarded', 'the', 'milk', '.', 'John', 'went', 'to', 'the', 'garden', '.', 'Daniel', 'moved', 'to', 'the', 'bedroom', '.', 'Daniel', 'went', 'to', 'the', 'garden', '.'], ['Is', 'John', 'in', 'the', 'garden', '?'], 'yes'), (['Mary', 'got', 'the', 'milk', 'there', '.', 'John', 'moved', 'to', 'the', 'bedroom', '.', 'Mary', 'discarded', 'the', 'milk', '.', 'John', 'went', 'to', 'the', 'garden', '.', 'Daniel', 'moved', 'to', 'the', 'bedroom', '.', 'Daniel', 'went', 'to', 'the', 'garden', '.', 'Daniel', 'travelled', 'to', 'the', 'bathroom', '.', 'Sandra', 'travelled', 'to', 'the', 'bedroom', '.'], ['Is', 'Daniel', 'in', 'the', 'bathroom', '?'], 'yes'), (['Mary', 'got', 'the', 'milk', 'there', '.', 'John', 'moved', 'to', 'the', 'bedroom', '.', 'Mary', 'discarded', 'the', 'milk', '.', 'John', 'went', 'to', 'the', 'garden', '.', 'Daniel', 'moved', 'to', 'the', 'bedroom', '.', 'Daniel', 'went', 'to', 'the', 'garden', '.', 'Daniel', 'travelled', 'to', 'the', 'bathroom', '.', 'Sandra', 'travelled', 'to', 'the', 'bedroom', '.', 'Mary', 'took', 'the', 'football', 'there', '.', 'Sandra', 'grabbed', 'the', 'milk', 'there', '.'], ['Is', 'Daniel', 'in', 'the', 'bedroom', '?'], 'no')]\n"
          ]
        }
      ]
    },
    {
      "cell_type": "code",
      "source": [
        "def analyze_data_structure(train_data, test_data):\n",
        "    \"\"\"Analyze and display data characteristics\"\"\"\n",
        "\n",
        "    print(f\"Training data type: {type(train_data)}\")\n",
        "    print(f\"Test data type: {type(test_data)}\")\n",
        "    print(f\"Training samples: {len(train_data)}\")\n",
        "    print(f\"Test samples: {len(test_data)}\")\n",
        "\n",
        "    # Display sample data point\n",
        "    if len(train_data) > 0:\n",
        "        print(f\"\\n📝 Sample Training Example:\")\n",
        "        print(f\"Story: {' '.join(train_data[0][0])}\")\n",
        "        print(f\"Question: {' '.join(train_data[0][1])}\")\n",
        "        print(f\"Answer: {train_data[0][2]}\")\n",
        "\n",
        "    return train_data, test_data\n",
        "\n",
        "Train_data, Test_data = analyze_data_structure(Train_data, Test_data)"
      ],
      "metadata": {
        "colab": {
          "base_uri": "https://localhost:8080/",
          "height": 0
        },
        "id": "9slxi-p7auSo",
        "outputId": "8c92db90-16a1-48c1-ac33-bc2669edb1b4"
      },
      "execution_count": 6,
      "outputs": [
        {
          "output_type": "stream",
          "name": "stdout",
          "text": [
            "Training data type: <class 'list'>\n",
            "Test data type: <class 'list'>\n",
            "Training samples: 10000\n",
            "Test samples: 1000\n",
            "\n",
            "📝 Sample Training Example:\n",
            "Story: Mary moved to the bathroom . Sandra journeyed to the bedroom .\n",
            "Question: Is Sandra in the hallway ?\n",
            "Answer: no\n"
          ]
        }
      ]
    },
    {
      "cell_type": "markdown",
      "source": [
        "# ***VOCABULARY BUILDING & TEXT PREPROCESSING***\n",
        "Vocabulary Construction\n",
        "\n",
        "Building a comprehensive vocabulary from all text data:\n",
        "1. Extract unique words from stories and questions\n",
        "2. Add answer tokens ('yes', 'no')\n",
        "3. Create word-to-index mapping using Keras Tokenizer"
      ],
      "metadata": {
        "id": "KkTJ10SvbkiD"
      }
    },
    {
      "cell_type": "code",
      "source": [],
      "metadata": {
        "id": "-PpCe4h7MkUJ"
      },
      "execution_count": 6,
      "outputs": []
    },
    {
      "cell_type": "code",
      "source": [
        "def build_vocabulary(train_data, test_data):\n",
        "    \"\"\"Build vocabulary from all available text data\"\"\"\n",
        "\n",
        "    print(\"🔤 Building vocabulary...\")\n",
        "\n",
        "    # Initialize vocabulary set\n",
        "    vocab = set()\n",
        "    all_data = test_data + train_data\n",
        "\n",
        "    # Extract vocabulary from stories and questions\n",
        "    for story, question, answer in all_data:\n",
        "        vocab = vocab.union(set(story))\n",
        "        vocab = vocab.union(set(question))\n",
        "\n",
        "    # Add answer vocabulary\n",
        "    vocab.add('yes')\n",
        "    vocab.add('no')\n",
        "\n",
        "    print(f\"📈 Vocabulary Statistics:\")\n",
        "    print(f\"Total unique words: {len(vocab)}\")\n",
        "    print(f\"Sample words: {list(vocab)[:10]}\")\n",
        "\n",
        "    return vocab, all_data\n",
        "\n",
        "vocab, all_data = build_vocabulary(Train_data, Test_data)"
      ],
      "metadata": {
        "colab": {
          "base_uri": "https://localhost:8080/",
          "height": 0
        },
        "id": "xwU_pdXeauPh",
        "outputId": "37fcae8e-33ad-4935-91b9-5f2bfc9c2798"
      },
      "execution_count": 7,
      "outputs": [
        {
          "output_type": "stream",
          "name": "stdout",
          "text": [
            "🔤 Building vocabulary...\n",
            "📈 Vocabulary Statistics:\n",
            "Total unique words: 37\n",
            "Sample words: ['milk', 'office', 'got', 'put', 'Mary', 'bedroom', '?', 'grabbed', 'to', 'down']\n"
          ]
        }
      ]
    },
    {
      "cell_type": "code",
      "source": [],
      "metadata": {
        "id": "BslgLAITK6Y0"
      },
      "execution_count": 7,
      "outputs": []
    },
    {
      "cell_type": "code",
      "source": [
        "def analyze_sequence_lengths(all_data):\n",
        "    \"\"\"Analyze sequence lengths for padding purposes\"\"\"\n",
        "\n",
        "    story_lengths = [len(data[0]) for data in all_data]\n",
        "    question_lengths = [len(data[1]) for data in all_data]\n",
        "\n",
        "    max_story_len = max(story_lengths)\n",
        "    max_ques_len = max(question_lengths)\n",
        "\n",
        "    print(f\"Sequence Length Analysis:\")\n",
        "    print(f\"Max story length: {max_story_len}\")\n",
        "    print(f\"Average story length: {np.mean(story_lengths):.2f}\")\n",
        "    print(f\"Max question length: {max_ques_len}\")\n",
        "    print(f\"Average question length: {np.mean(question_lengths):.2f}\")\n",
        "\n",
        "    plt.figure(figsize=(12, 4))\n",
        "\n",
        "    plt.subplot(1, 2, 1)\n",
        "    plt.hist(story_lengths, bins=20, alpha=0.7, color='skyblue')\n",
        "    plt.title('Distribution of Story Lengths')\n",
        "    plt.xlabel('Length')\n",
        "    plt.ylabel('Frequency')\n",
        "\n",
        "    plt.subplot(1, 2, 2)\n",
        "    plt.hist(question_lengths, bins=10, alpha=0.7, color='lightcoral')\n",
        "    plt.title('Distribution of Question Lengths')\n",
        "    plt.xlabel('Length')\n",
        "    plt.ylabel('Frequency')\n",
        "\n",
        "    plt.tight_layout()\n",
        "    plt.show()\n",
        "\n",
        "    return max_story_len, max_ques_len\n",
        "\n",
        "max_story_len, max_ques_len = analyze_sequence_lengths(all_data)"
      ],
      "metadata": {
        "colab": {
          "base_uri": "https://localhost:8080/",
          "height": 439
        },
        "id": "hMCwX241auMH",
        "outputId": "1dfcc454-54de-490a-eefe-66288cb29a9e"
      },
      "execution_count": 8,
      "outputs": [
        {
          "output_type": "stream",
          "name": "stdout",
          "text": [
            "Sequence Length Analysis:\n",
            "Max story length: 156\n",
            "Average story length: 38.50\n",
            "Max question length: 6\n",
            "Average question length: 6.00\n"
          ]
        },
        {
          "output_type": "display_data",
          "data": {
            "text/plain": [
              "<Figure size 1200x400 with 2 Axes>"
            ],
            "image/png": "[encoded data removed]"
          },
          "metadata": {}
        }
      ]
    },
    {
      "cell_type": "code",
      "source": [],
      "metadata": {
        "id": "T3r15Ytpedgc"
      },
      "execution_count": 8,
      "outputs": []
    },
    {
      "cell_type": "markdown",
      "source": [
        "# ***TEXT VECTORIZATION & TOKENIZATION***\n",
        "Text Vectorization Process\n",
        "\n",
        "Converting text to numerical format:\n",
        "1. Create tokenizer with no filters to preserve punctuation\n",
        "2. Fit tokenizer on vocabulary\n",
        "3. Convert text sequences to integer sequences\n",
        "4. Pad sequences to uniform length"
      ],
      "metadata": {
        "id": "MDmDPzH8eVAK"
      }
    },
    {
      "cell_type": "code",
      "source": [
        "def setup_tokenizer(vocab):\n",
        "    \"\"\"Initialize and configure tokenizer\"\"\"\n",
        "\n",
        "    tokenizer = Tokenizer(filters='')  # No filtering to preserve all tokens\n",
        "    tokenizer.fit_on_texts(vocab)\n",
        "\n",
        "    vocab_len = len(vocab) + 1  # +1 for padding token\n",
        "\n",
        "    print(f\"🎯 Tokenizer Configuration:\")\n",
        "    print(f\"Vocabulary size: {vocab_len}\")\n",
        "    print(f\"Sample word indices: {dict(list(tokenizer.word_index.items())[:10])}\")\n",
        "\n",
        "    return tokenizer, vocab_len\n",
        "\n",
        "tokenizer, vocab_len = setup_tokenizer(vocab)"
      ],
      "metadata": {
        "colab": {
          "base_uri": "https://localhost:8080/",
          "height": 0
        },
        "id": "vJhYq9H1auJB",
        "outputId": "5fc31436-883e-4fd2-8fca-39fa70b138d6"
      },
      "execution_count": 9,
      "outputs": [
        {
          "output_type": "stream",
          "name": "stdout",
          "text": [
            "🎯 Tokenizer Configuration:\n",
            "Vocabulary size: 38\n",
            "Sample word indices: {'milk': 1, 'office': 2, 'got': 3, 'put': 4, 'mary': 5, 'bedroom': 6, '?': 7, 'grabbed': 8, 'to': 9, 'down': 10}\n"
          ]
        }
      ]
    },
    {
      "cell_type": "code",
      "source": [
        "tokenizer.word_index"
      ],
      "metadata": {
        "colab": {
          "base_uri": "https://localhost:8080/",
          "height": 0
        },
        "id": "4TsakcmmOXna",
        "outputId": "fba6e0e1-6fa2-424b-9f11-f03e19613018"
      },
      "execution_count": 10,
      "outputs": [
        {
          "output_type": "execute_result",
          "data": {
            "text/plain": [
              "{'milk': 1,\n",
              " 'office': 2,\n",
              " 'got': 3,\n",
              " 'put': 4,\n",
              " 'mary': 5,\n",
              " 'bedroom': 6,\n",
              " '?': 7,\n",
              " 'grabbed': 8,\n",
              " 'to': 9,\n",
              " 'down': 10,\n",
              " 'there': 11,\n",
              " 'in': 12,\n",
              " 'dropped': 13,\n",
              " 'picked': 14,\n",
              " 'took': 15,\n",
              " 'kitchen': 16,\n",
              " 'football': 17,\n",
              " 'went': 18,\n",
              " 'the': 19,\n",
              " 'yes': 20,\n",
              " 'hallway': 21,\n",
              " 'is': 22,\n",
              " '.': 23,\n",
              " 'sandra': 24,\n",
              " 'left': 25,\n",
              " 'up': 26,\n",
              " 'back': 27,\n",
              " 'john': 28,\n",
              " 'daniel': 29,\n",
              " 'discarded': 30,\n",
              " 'moved': 31,\n",
              " 'garden': 32,\n",
              " 'journeyed': 33,\n",
              " 'travelled': 34,\n",
              " 'no': 35,\n",
              " 'bathroom': 36,\n",
              " 'apple': 37}"
            ]
          },
          "metadata": {},
          "execution_count": 10
        }
      ]
    },
    {
      "cell_type": "code",
      "source": [
        "def vectorize_stories(data, tokenizer, max_story_len, max_ques_len):\n",
        "    \"\"\"Convert text data to numerical vectors\"\"\"\n",
        "\n",
        "    print(\"🔢 Vectorizing text data...\")\n",
        "\n",
        "    X = []      # Stories\n",
        "    Xq = []     # Questions\n",
        "    Y = []      # Answers\n",
        "\n",
        "    word_index = tokenizer.word_index\n",
        "\n",
        "    for i, (story, query, answer) in enumerate(data):\n",
        "        if i < 5: # Print for first 5 examples\n",
        "            print(f\"\\nProcessing example {i+1}:\")\n",
        "            print(f\"  Original Story: {story}\")\n",
        "            print(f\"  Original Question: {query}\")\n",
        "            print(f\"  Original Answer: {answer}\")\n",
        "\n",
        "\n",
        "        # Convert words to indices\n",
        "        x = [word_index[word.lower()] for word in story]\n",
        "        xq = [word_index[word.lower()] for word in query]\n",
        "\n",
        "        if i < 5: # Print for first 5 examples\n",
        "            print(f\"  Story indices: {x}\")\n",
        "            print(f\"  Question indices: {xq}\")\n",
        "\n",
        "        # One-hot encode answers\n",
        "        y = np.zeros(len(word_index) + 1)\n",
        "        y[word_index[answer]] = 1\n",
        "\n",
        "        if i < 5: # Print for first 5 examples\n",
        "            print(f\"  Answer one-hot: {y}\")\n",
        "\n",
        "\n",
        "        X.append(x)\n",
        "        Xq.append(xq)\n",
        "        Y.append(y)\n",
        "\n",
        "    # Pad sequences to uniform length\n",
        "    X_padded = pad_sequences(X, maxlen=max_story_len)\n",
        "    Xq_padded = pad_sequences(Xq, maxlen=max_ques_len)\n",
        "    Y_array = np.array(Y)\n",
        "\n",
        "    print(f\"\\n✅ Vectorization complete!\")\n",
        "    print(f\"Stories shape: {X_padded.shape}\")\n",
        "    print(f\"Questions shape: {Xq_padded.shape}\")\n",
        "    print(f\"Answers shape: {Y_array.shape}\")\n",
        "\n",
        "    return X_padded, Xq_padded, Y_array\n",
        "\n",
        "\n",
        "tokenizer, vocab_len = setup_tokenizer(vocab)\n",
        "inputs_train, queries_train, answers_train = vectorize_stories(Train_data, tokenizer, max_story_len, max_ques_len)\n",
        "inputs_test, queries_test, answers_test = vectorize_stories(Test_data, tokenizer, max_story_len, max_ques_len)"
      ],
      "metadata": {
        "colab": {
          "base_uri": "https://localhost:8080/",
          "height": 0
        },
        "id": "_fy32bulauF9",
        "outputId": "d6fd02ac-e63d-4926-968a-d8715c263e15"
      },
      "execution_count": 11,
      "outputs": [
        {
          "output_type": "stream",
          "name": "stdout",
          "text": [
            "🎯 Tokenizer Configuration:\n",
            "Vocabulary size: 38\n",
            "Sample word indices: {'milk': 1, 'office': 2, 'got': 3, 'put': 4, 'mary': 5, 'bedroom': 6, '?': 7, 'grabbed': 8, 'to': 9, 'down': 10}\n",
            "🔢 Vectorizing text data...\n",
            "\n",
            "Processing example 1:\n",
            "  Original Story: ['Mary', 'moved', 'to', 'the', 'bathroom', '.', 'Sandra', 'journeyed', 'to', 'the', 'bedroom', '.']\n",
            "  Original Question: ['Is', 'Sandra', 'in', 'the', 'hallway', '?']\n",
            "  Original Answer: no\n",
            "  Story indices: [5, 31, 9, 19, 36, 23, 24, 33, 9, 19, 6, 23]\n",
            "  Question indices: [22, 24, 12, 19, 21, 7]\n",
            "  Answer one-hot: [0. 0. 0. 0. 0. 0. 0. 0. 0. 0. 0. 0. 0. 0. 0. 0. 0. 0. 0. 0. 0. 0. 0. 0.\n",
            " 0. 0. 0. 0. 0. 0. 0. 0. 0. 0. 0. 1. 0. 0.]\n",
            "\n",
            "Processing example 2:\n",
            "  Original Story: ['Mary', 'moved', 'to', 'the', 'bathroom', '.', 'Sandra', 'journeyed', 'to', 'the', 'bedroom', '.', 'Mary', 'went', 'back', 'to', 'the', 'bedroom', '.', 'Daniel', 'went', 'back', 'to', 'the', 'hallway', '.']\n",
            "  Original Question: ['Is', 'Daniel', 'in', 'the', 'bathroom', '?']\n",
            "  Original Answer: no\n",
            "  Story indices: [5, 31, 9, 19, 36, 23, 24, 33, 9, 19, 6, 23, 5, 18, 27, 9, 19, 6, 23, 29, 18, 27, 9, 19, 21, 23]\n",
            "  Question indices: [22, 29, 12, 19, 36, 7]\n",
            "  Answer one-hot: [0. 0. 0. 0. 0. 0. 0. 0. 0. 0. 0. 0. 0. 0. 0. 0. 0. 0. 0. 0. 0. 0. 0. 0.\n",
            " 0. 0. 0. 0. 0. 0. 0. 0. 0. 0. 0. 1. 0. 0.]\n",
            "\n",
            "Processing example 3:\n",
            "  Original Story: ['Mary', 'moved', 'to', 'the', 'bathroom', '.', 'Sandra', 'journeyed', 'to', 'the', 'bedroom', '.', 'Mary', 'went', 'back', 'to', 'the', 'bedroom', '.', 'Daniel', 'went', 'back', 'to', 'the', 'hallway', '.', 'Sandra', 'went', 'to', 'the', 'kitchen', '.', 'Daniel', 'went', 'back', 'to', 'the', 'bathroom', '.']\n",
            "  Original Question: ['Is', 'Daniel', 'in', 'the', 'office', '?']\n",
            "  Original Answer: no\n",
            "  Story indices: [5, 31, 9, 19, 36, 23, 24, 33, 9, 19, 6, 23, 5, 18, 27, 9, 19, 6, 23, 29, 18, 27, 9, 19, 21, 23, 24, 18, 9, 19, 16, 23, 29, 18, 27, 9, 19, 36, 23]\n",
            "  Question indices: [22, 29, 12, 19, 2, 7]\n",
            "  Answer one-hot: [0. 0. 0. 0. 0. 0. 0. 0. 0. 0. 0. 0. 0. 0. 0. 0. 0. 0. 0. 0. 0. 0. 0. 0.\n",
            " 0. 0. 0. 0. 0. 0. 0. 0. 0. 0. 0. 1. 0. 0.]\n",
            "\n",
            "Processing example 4:\n",
            "  Original Story: ['Mary', 'moved', 'to', 'the', 'bathroom', '.', 'Sandra', 'journeyed', 'to', 'the', 'bedroom', '.', 'Mary', 'went', 'back', 'to', 'the', 'bedroom', '.', 'Daniel', 'went', 'back', 'to', 'the', 'hallway', '.', 'Sandra', 'went', 'to', 'the', 'kitchen', '.', 'Daniel', 'went', 'back', 'to', 'the', 'bathroom', '.', 'Daniel', 'picked', 'up', 'the', 'football', 'there', '.', 'Daniel', 'went', 'to', 'the', 'bedroom', '.']\n",
            "  Original Question: ['Is', 'Daniel', 'in', 'the', 'bedroom', '?']\n",
            "  Original Answer: yes\n",
            "  Story indices: [5, 31, 9, 19, 36, 23, 24, 33, 9, 19, 6, 23, 5, 18, 27, 9, 19, 6, 23, 29, 18, 27, 9, 19, 21, 23, 24, 18, 9, 19, 16, 23, 29, 18, 27, 9, 19, 36, 23, 29, 14, 26, 19, 17, 11, 23, 29, 18, 9, 19, 6, 23]\n",
            "  Question indices: [22, 29, 12, 19, 6, 7]\n",
            "  Answer one-hot: [0. 0. 0. 0. 0. 0. 0. 0. 0. 0. 0. 0. 0. 0. 0. 0. 0. 0. 0. 0. 1. 0. 0. 0.\n",
            " 0. 0. 0. 0. 0. 0. 0. 0. 0. 0. 0. 0. 0. 0.]\n",
            "\n",
            "Processing example 5:\n",
            "  Original Story: ['Mary', 'moved', 'to', 'the', 'bathroom', '.', 'Sandra', 'journeyed', 'to', 'the', 'bedroom', '.', 'Mary', 'went', 'back', 'to', 'the', 'bedroom', '.', 'Daniel', 'went', 'back', 'to', 'the', 'hallway', '.', 'Sandra', 'went', 'to', 'the', 'kitchen', '.', 'Daniel', 'went', 'back', 'to', 'the', 'bathroom', '.', 'Daniel', 'picked', 'up', 'the', 'football', 'there', '.', 'Daniel', 'went', 'to', 'the', 'bedroom', '.', 'John', 'travelled', 'to', 'the', 'office', '.', 'Sandra', 'went', 'to', 'the', 'garden', '.']\n",
            "  Original Question: ['Is', 'Daniel', 'in', 'the', 'bedroom', '?']\n",
            "  Original Answer: yes\n",
            "  Story indices: [5, 31, 9, 19, 36, 23, 24, 33, 9, 19, 6, 23, 5, 18, 27, 9, 19, 6, 23, 29, 18, 27, 9, 19, 21, 23, 24, 18, 9, 19, 16, 23, 29, 18, 27, 9, 19, 36, 23, 29, 14, 26, 19, 17, 11, 23, 29, 18, 9, 19, 6, 23, 28, 34, 9, 19, 2, 23, 24, 18, 9, 19, 32, 23]\n",
            "  Question indices: [22, 29, 12, 19, 6, 7]\n",
            "  Answer one-hot: [0. 0. 0. 0. 0. 0. 0. 0. 0. 0. 0. 0. 0. 0. 0. 0. 0. 0. 0. 0. 1. 0. 0. 0.\n",
            " 0. 0. 0. 0. 0. 0. 0. 0. 0. 0. 0. 0. 0. 0.]\n",
            "\n",
            "✅ Vectorization complete!\n",
            "Stories shape: (10000, 156)\n",
            "Questions shape: (10000, 6)\n",
            "Answers shape: (10000, 38)\n",
            "🔢 Vectorizing text data...\n",
            "\n",
            "Processing example 1:\n",
            "  Original Story: ['Mary', 'got', 'the', 'milk', 'there', '.', 'John', 'moved', 'to', 'the', 'bedroom', '.']\n",
            "  Original Question: ['Is', 'John', 'in', 'the', 'kitchen', '?']\n",
            "  Original Answer: no\n",
            "  Story indices: [5, 3, 19, 1, 11, 23, 28, 31, 9, 19, 6, 23]\n",
            "  Question indices: [22, 28, 12, 19, 16, 7]\n",
            "  Answer one-hot: [0. 0. 0. 0. 0. 0. 0. 0. 0. 0. 0. 0. 0. 0. 0. 0. 0. 0. 0. 0. 0. 0. 0. 0.\n",
            " 0. 0. 0. 0. 0. 0. 0. 0. 0. 0. 0. 1. 0. 0.]\n",
            "\n",
            "Processing example 2:\n",
            "  Original Story: ['Mary', 'got', 'the', 'milk', 'there', '.', 'John', 'moved', 'to', 'the', 'bedroom', '.', 'Mary', 'discarded', 'the', 'milk', '.', 'John', 'went', 'to', 'the', 'garden', '.']\n",
            "  Original Question: ['Is', 'John', 'in', 'the', 'kitchen', '?']\n",
            "  Original Answer: no\n",
            "  Story indices: [5, 3, 19, 1, 11, 23, 28, 31, 9, 19, 6, 23, 5, 30, 19, 1, 23, 28, 18, 9, 19, 32, 23]\n",
            "  Question indices: [22, 28, 12, 19, 16, 7]\n",
            "  Answer one-hot: [0. 0. 0. 0. 0. 0. 0. 0. 0. 0. 0. 0. 0. 0. 0. 0. 0. 0. 0. 0. 0. 0. 0. 0.\n",
            " 0. 0. 0. 0. 0. 0. 0. 0. 0. 0. 0. 1. 0. 0.]\n",
            "\n",
            "Processing example 3:\n",
            "  Original Story: ['Mary', 'got', 'the', 'milk', 'there', '.', 'John', 'moved', 'to', 'the', 'bedroom', '.', 'Mary', 'discarded', 'the', 'milk', '.', 'John', 'went', 'to', 'the', 'garden', '.', 'Daniel', 'moved', 'to', 'the', 'bedroom', '.', 'Daniel', 'went', 'to', 'the', 'garden', '.']\n",
            "  Original Question: ['Is', 'John', 'in', 'the', 'garden', '?']\n",
            "  Original Answer: yes\n",
            "  Story indices: [5, 3, 19, 1, 11, 23, 28, 31, 9, 19, 6, 23, 5, 30, 19, 1, 23, 28, 18, 9, 19, 32, 23, 29, 31, 9, 19, 6, 23, 29, 18, 9, 19, 32, 23]\n",
            "  Question indices: [22, 28, 12, 19, 32, 7]\n",
            "  Answer one-hot: [0. 0. 0. 0. 0. 0. 0. 0. 0. 0. 0. 0. 0. 0. 0. 0. 0. 0. 0. 0. 1. 0. 0. 0.\n",
            " 0. 0. 0. 0. 0. 0. 0. 0. 0. 0. 0. 0. 0. 0.]\n",
            "\n",
            "Processing example 4:\n",
            "  Original Story: ['Mary', 'got', 'the', 'milk', 'there', '.', 'John', 'moved', 'to', 'the', 'bedroom', '.', 'Mary', 'discarded', 'the', 'milk', '.', 'John', 'went', 'to', 'the', 'garden', '.', 'Daniel', 'moved', 'to', 'the', 'bedroom', '.', 'Daniel', 'went', 'to', 'the', 'garden', '.', 'Daniel', 'travelled', 'to', 'the', 'bathroom', '.', 'Sandra', 'travelled', 'to', 'the', 'bedroom', '.']\n",
            "  Original Question: ['Is', 'Daniel', 'in', 'the', 'bathroom', '?']\n",
            "  Original Answer: yes\n",
            "  Story indices: [5, 3, 19, 1, 11, 23, 28, 31, 9, 19, 6, 23, 5, 30, 19, 1, 23, 28, 18, 9, 19, 32, 23, 29, 31, 9, 19, 6, 23, 29, 18, 9, 19, 32, 23, 29, 34, 9, 19, 36, 23, 24, 34, 9, 19, 6, 23]\n",
            "  Question indices: [22, 29, 12, 19, 36, 7]\n",
            "  Answer one-hot: [0. 0. 0. 0. 0. 0. 0. 0. 0. 0. 0. 0. 0. 0. 0. 0. 0. 0. 0. 0. 1. 0. 0. 0.\n",
            " 0. 0. 0. 0. 0. 0. 0. 0. 0. 0. 0. 0. 0. 0.]\n",
            "\n",
            "Processing example 5:\n",
            "  Original Story: ['Mary', 'got', 'the', 'milk', 'there', '.', 'John', 'moved', 'to', 'the', 'bedroom', '.', 'Mary', 'discarded', 'the', 'milk', '.', 'John', 'went', 'to', 'the', 'garden', '.', 'Daniel', 'moved', 'to', 'the', 'bedroom', '.', 'Daniel', 'went', 'to', 'the', 'garden', '.', 'Daniel', 'travelled', 'to', 'the', 'bathroom', '.', 'Sandra', 'travelled', 'to', 'the', 'bedroom', '.', 'Mary', 'took', 'the', 'football', 'there', '.', 'Sandra', 'grabbed', 'the', 'milk', 'there', '.']\n",
            "  Original Question: ['Is', 'Daniel', 'in', 'the', 'bedroom', '?']\n",
            "  Original Answer: no\n",
            "  Story indices: [5, 3, 19, 1, 11, 23, 28, 31, 9, 19, 6, 23, 5, 30, 19, 1, 23, 28, 18, 9, 19, 32, 23, 29, 31, 9, 19, 6, 23, 29, 18, 9, 19, 32, 23, 29, 34, 9, 19, 36, 23, 24, 34, 9, 19, 6, 23, 5, 15, 19, 17, 11, 23, 24, 8, 19, 1, 11, 23]\n",
            "  Question indices: [22, 29, 12, 19, 6, 7]\n",
            "  Answer one-hot: [0. 0. 0. 0. 0. 0. 0. 0. 0. 0. 0. 0. 0. 0. 0. 0. 0. 0. 0. 0. 0. 0. 0. 0.\n",
            " 0. 0. 0. 0. 0. 0. 0. 0. 0. 0. 0. 1. 0. 0.]\n",
            "\n",
            "✅ Vectorization complete!\n",
            "Stories shape: (1000, 156)\n",
            "Questions shape: (1000, 6)\n",
            "Answers shape: (1000, 38)\n"
          ]
        }
      ]
    },
    {
      "cell_type": "code",
      "source": [
        "print(answers_train.shape)"
      ],
      "metadata": {
        "colab": {
          "base_uri": "https://localhost:8080/",
          "height": 0
        },
        "id": "MJLuc9CclBQC",
        "outputId": "7bba68fa-d4e2-479c-ef3b-fc4aef57eee1"
      },
      "execution_count": 12,
      "outputs": [
        {
          "output_type": "stream",
          "name": "stdout",
          "text": [
            "(10000, 38)\n"
          ]
        }
      ]
    },
    {
      "cell_type": "code",
      "source": [
        "\n",
        "print(answers_test.shape)"
      ],
      "metadata": {
        "colab": {
          "base_uri": "https://localhost:8080/",
          "height": 0
        },
        "id": "7XD84uPRj3sN",
        "outputId": "d45b6cd6-7ca8-4ca5-8fa4-a04842e573e5"
      },
      "execution_count": 13,
      "outputs": [
        {
          "output_type": "stream",
          "name": "stdout",
          "text": [
            "(1000, 38)\n"
          ]
        }
      ]
    },
    {
      "cell_type": "code",
      "source": [
        "inputs_train.shape"
      ],
      "metadata": {
        "colab": {
          "base_uri": "https://localhost:8080/",
          "height": 0
        },
        "id": "13QYP_dfm1Ff",
        "outputId": "afd11210-d70d-431a-b7d7-c689807380bb"
      },
      "execution_count": 14,
      "outputs": [
        {
          "output_type": "execute_result",
          "data": {
            "text/plain": [
              "(10000, 156)"
            ]
          },
          "metadata": {},
          "execution_count": 14
        }
      ]
    },
    {
      "cell_type": "code",
      "source": [
        "print(\"First 5 samples of inputs_train:\")\n",
        "print(inputs_train[:5])\n",
        "\n",
        "print(\"\\nFirst 5 samples of queries_train:\")\n",
        "print(queries_train[:5])\n",
        "\n",
        "print(\"\\nFirst 5 samples of answers_train:\")\n",
        "print(answers_train[:5])"
      ],
      "metadata": {
        "colab": {
          "base_uri": "https://localhost:8080/",
          "height": 0
        },
        "id": "pbSyLZwindaq",
        "outputId": "1b8bd904-db97-4f5f-b22b-95b7cf4ddf95"
      },
      "execution_count": 15,
      "outputs": [
        {
          "output_type": "stream",
          "name": "stdout",
          "text": [
            "First 5 samples of inputs_train:\n",
            "[[ 0  0  0  0  0  0  0  0  0  0  0  0  0  0  0  0  0  0  0  0  0  0  0  0\n",
            "   0  0  0  0  0  0  0  0  0  0  0  0  0  0  0  0  0  0  0  0  0  0  0  0\n",
            "   0  0  0  0  0  0  0  0  0  0  0  0  0  0  0  0  0  0  0  0  0  0  0  0\n",
            "   0  0  0  0  0  0  0  0  0  0  0  0  0  0  0  0  0  0  0  0  0  0  0  0\n",
            "   0  0  0  0  0  0  0  0  0  0  0  0  0  0  0  0  0  0  0  0  0  0  0  0\n",
            "   0  0  0  0  0  0  0  0  0  0  0  0  0  0  0  0  0  0  0  0  0  0  0  0\n",
            "   5 31  9 19 36 23 24 33  9 19  6 23]\n",
            " [ 0  0  0  0  0  0  0  0  0  0  0  0  0  0  0  0  0  0  0  0  0  0  0  0\n",
            "   0  0  0  0  0  0  0  0  0  0  0  0  0  0  0  0  0  0  0  0  0  0  0  0\n",
            "   0  0  0  0  0  0  0  0  0  0  0  0  0  0  0  0  0  0  0  0  0  0  0  0\n",
            "   0  0  0  0  0  0  0  0  0  0  0  0  0  0  0  0  0  0  0  0  0  0  0  0\n",
            "   0  0  0  0  0  0  0  0  0  0  0  0  0  0  0  0  0  0  0  0  0  0  0  0\n",
            "   0  0  0  0  0  0  0  0  0  0  5 31  9 19 36 23 24 33  9 19  6 23  5 18\n",
            "  27  9 19  6 23 29 18 27  9 19 21 23]\n",
            " [ 0  0  0  0  0  0  0  0  0  0  0  0  0  0  0  0  0  0  0  0  0  0  0  0\n",
            "   0  0  0  0  0  0  0  0  0  0  0  0  0  0  0  0  0  0  0  0  0  0  0  0\n",
            "   0  0  0  0  0  0  0  0  0  0  0  0  0  0  0  0  0  0  0  0  0  0  0  0\n",
            "   0  0  0  0  0  0  0  0  0  0  0  0  0  0  0  0  0  0  0  0  0  0  0  0\n",
            "   0  0  0  0  0  0  0  0  0  0  0  0  0  0  0  0  0  0  0  0  0  5 31  9\n",
            "  19 36 23 24 33  9 19  6 23  5 18 27  9 19  6 23 29 18 27  9 19 21 23 24\n",
            "  18  9 19 16 23 29 18 27  9 19 36 23]\n",
            " [ 0  0  0  0  0  0  0  0  0  0  0  0  0  0  0  0  0  0  0  0  0  0  0  0\n",
            "   0  0  0  0  0  0  0  0  0  0  0  0  0  0  0  0  0  0  0  0  0  0  0  0\n",
            "   0  0  0  0  0  0  0  0  0  0  0  0  0  0  0  0  0  0  0  0  0  0  0  0\n",
            "   0  0  0  0  0  0  0  0  0  0  0  0  0  0  0  0  0  0  0  0  0  0  0  0\n",
            "   0  0  0  0  0  0  0  0  5 31  9 19 36 23 24 33  9 19  6 23  5 18 27  9\n",
            "  19  6 23 29 18 27  9 19 21 23 24 18  9 19 16 23 29 18 27  9 19 36 23 29\n",
            "  14 26 19 17 11 23 29 18  9 19  6 23]\n",
            " [ 0  0  0  0  0  0  0  0  0  0  0  0  0  0  0  0  0  0  0  0  0  0  0  0\n",
            "   0  0  0  0  0  0  0  0  0  0  0  0  0  0  0  0  0  0  0  0  0  0  0  0\n",
            "   0  0  0  0  0  0  0  0  0  0  0  0  0  0  0  0  0  0  0  0  0  0  0  0\n",
            "   0  0  0  0  0  0  0  0  0  0  0  0  0  0  0  0  0  0  0  0  5 31  9 19\n",
            "  36 23 24 33  9 19  6 23  5 18 27  9 19  6 23 29 18 27  9 19 21 23 24 18\n",
            "   9 19 16 23 29 18 27  9 19 36 23 29 14 26 19 17 11 23 29 18  9 19  6 23\n",
            "  28 34  9 19  2 23 24 18  9 19 32 23]]\n",
            "\n",
            "First 5 samples of queries_train:\n",
            "[[22 24 12 19 21  7]\n",
            " [22 29 12 19 36  7]\n",
            " [22 29 12 19  2  7]\n",
            " [22 29 12 19  6  7]\n",
            " [22 29 12 19  6  7]]\n",
            "\n",
            "First 5 samples of answers_train:\n",
            "[[0. 0. 0. 0. 0. 0. 0. 0. 0. 0. 0. 0. 0. 0. 0. 0. 0. 0. 0. 0. 0. 0. 0. 0.\n",
            "  0. 0. 0. 0. 0. 0. 0. 0. 0. 0. 0. 1. 0. 0.]\n",
            " [0. 0. 0. 0. 0. 0. 0. 0. 0. 0. 0. 0. 0. 0. 0. 0. 0. 0. 0. 0. 0. 0. 0. 0.\n",
            "  0. 0. 0. 0. 0. 0. 0. 0. 0. 0. 0. 1. 0. 0.]\n",
            " [0. 0. 0. 0. 0. 0. 0. 0. 0. 0. 0. 0. 0. 0. 0. 0. 0. 0. 0. 0. 0. 0. 0. 0.\n",
            "  0. 0. 0. 0. 0. 0. 0. 0. 0. 0. 0. 1. 0. 0.]\n",
            " [0. 0. 0. 0. 0. 0. 0. 0. 0. 0. 0. 0. 0. 0. 0. 0. 0. 0. 0. 0. 1. 0. 0. 0.\n",
            "  0. 0. 0. 0. 0. 0. 0. 0. 0. 0. 0. 0. 0. 0.]\n",
            " [0. 0. 0. 0. 0. 0. 0. 0. 0. 0. 0. 0. 0. 0. 0. 0. 0. 0. 0. 0. 1. 0. 0. 0.\n",
            "  0. 0. 0. 0. 0. 0. 0. 0. 0. 0. 0. 0. 0. 0.]]\n"
          ]
        }
      ]
    },
    {
      "cell_type": "markdown",
      "metadata": {
        "id": "2aacbe88"
      },
      "source": [
        "# ***MODEL ARCHITECTURE & APPROACH***\n",
        "\n",
        "This section details the architecture of the improved Memory Network model designed for context-aware question answering.\n",
        "\n",
        "Key Components:\n",
        "1. **Input Encoders**: Process stories with different representations, now with **L2 Regularization** and **Batch Normalization**.\n",
        "   - Memory encoder (m): For storing contextual information.\n",
        "   - Context encoder (c): For response generation.\n",
        "2. **Question Encoder**: Processes question sequences, also with **L2 Regularization** and **Batch Normalization**.\n",
        "3. **Attention Mechanism**:\n",
        "   - Computes attention between story and question.\n",
        "   - Uses dot-product attention with softmax.\n",
        "4. **Response Generation**:\n",
        "   - Combines attention weights with context.\n",
        "   - Uses a stack of **Bidirectional LSTM** and **GRU** layers for enhanced sequential processing and **L2 Regularization**.\n",
        "   - Dense layer for final classification with **L2 Regularization**.\n",
        "\n",
        "### Architecture Flow:\n",
        "Story → [Input Encoders (with Reg. & BN)] → Memory Representations\n",
        "Question → [Question Encoder (with Reg. & BN)] → Question Representation\n",
        "[Memory × Question] → Attention Weights\n",
        "[Attention Weights + Context Representation] → Response\n",
        "Response + Question Representation → [Bidirectional LSTM + GRU (with Reg.)] → Processed Representation\n",
        "Processed Representation → [Dense Layer (with Reg.)] → Answer Probability Distribution → [Softmax] → Final Answer"
      ]
    },
    {
      "cell_type": "code",
      "source": [
        "# IMPROVED MODEL ARCHITECTURE\n",
        "from tensorflow.keras.regularizers import l2\n",
        "from tensorflow.keras.layers import Bidirectional, GRU, BatchNormalization\n",
        "\n",
        "def build_improved_memory_network(vocab_len, max_story_len, max_ques_len,\n",
        "                                embedding_dim=128, l2_reg=0.001):\n",
        "    \"\"\"Build an improved Memory Network architecture for better accuracy\"\"\"\n",
        "\n",
        "    print(\"🏗️ Building Improved Memory Network Architecture...\")\n",
        "\n",
        "    # Input layers\n",
        "    input_sequence = Input((max_story_len,), name='story_input')\n",
        "    question = Input((max_ques_len,), name='question_input')\n",
        "\n",
        "    # Enhanced story encoders with regularization\n",
        "    input_encoder_m = Sequential([\n",
        "        Embedding(input_dim=vocab_len, output_dim=embedding_dim,\n",
        "                 input_length=max_story_len,\n",
        "                 embeddings_regularizer=l2(l2_reg),\n",
        "                 name='memory_embedding'),\n",
        "        BatchNormalization(),\n",
        "        Dropout(0.3, name='memory_dropout')\n",
        "    ], name='memory_encoder')\n",
        "\n",
        "    input_encoder_c = Sequential([\n",
        "        Embedding(input_dim=vocab_len, output_dim=max_ques_len,\n",
        "                 input_length=max_story_len,\n",
        "                 embeddings_regularizer=l2(l2_reg),\n",
        "                 name='context_embedding'),\n",
        "        BatchNormalization(),\n",
        "        Dropout(0.3, name='context_dropout')\n",
        "    ], name='context_encoder')\n",
        "\n",
        "    # Enhanced question encoder\n",
        "    question_encoder = Sequential([\n",
        "        Embedding(input_dim=vocab_len, output_dim=embedding_dim,\n",
        "                 input_length=max_ques_len,\n",
        "                 embeddings_regularizer=l2(l2_reg),\n",
        "                 name='question_embedding'),\n",
        "        BatchNormalization(),\n",
        "        Dropout(0.3, name='question_dropout')\n",
        "    ], name='question_encoder')\n",
        "\n",
        "    # Encode inputs\n",
        "    input_encoded_m = input_encoder_m(input_sequence)\n",
        "    input_encoded_c = input_encoder_c(input_sequence)\n",
        "    question_encoded = question_encoder(question)\n",
        "\n",
        "    # Attention mechanism (unchanged - already optimal)\n",
        "    match = dot([input_encoded_m, question_encoded], axes=(2, 2), name='attention_dot')\n",
        "    match = Activation('softmax', name='attention_weights')(match)\n",
        "\n",
        "    # Response generation\n",
        "    response = add([match, input_encoded_c], name='response_combination')\n",
        "    response = Permute((2, 1), name='response_permute')(response)\n",
        "\n",
        "    # IMPROVED: Bidirectional LSTM + GRU stack\n",
        "    answer = concatenate([response, question_encoded], name='final_concatenation')\n",
        "    answer = Bidirectional(LSTM(64, return_sequences=True,\n",
        "                              kernel_regularizer=l2(l2_reg)))(answer)\n",
        "    answer = GRU(32, kernel_regularizer=l2(l2_reg))(answer)\n",
        "    answer = Dropout(0.5, name='final_dropout')(answer)\n",
        "    answer = Dense(vocab_len, kernel_regularizer=l2(l2_reg), name='output_dense')(answer)\n",
        "    answer = Activation('softmax', name='final_activation')(answer)\n",
        "\n",
        "    model = Model([input_sequence, question], answer, name='improved_memory_network')\n",
        "    return model\n",
        "\n",
        "# IMPROVED COMPILATION WITH ADAM OPTIMIZER\n",
        "def compile_improved_model(model, learning_rate=0.001):\n",
        "    \"\"\"Compile improved model with Adam optimizer\"\"\"\n",
        "\n",
        "    # Adam optimizer generally performs better than RMSprop\n",
        "    optimizer = tf.keras.optimizers.Adam(learning_rate=learning_rate)\n",
        "\n",
        "    model.compile(\n",
        "        optimizer=optimizer,\n",
        "        loss='categorical_crossentropy',\n",
        "        metrics=['accuracy', 'top_k_categorical_accuracy']  # Added top-k accuracy\n",
        "    )\n",
        "\n",
        "    print(\"✅ Improved model compiled successfully!\")\n",
        "    return model\n",
        "\n",
        "# Build and compile the improved model\n",
        "improved_model = build_improved_memory_network(vocab_len, max_story_len, max_ques_len)\n",
        "improved_model = compile_improved_model(improved_model)\n",
        "\n",
        "# Display the model summary\n",
        "improved_model.summary()"
      ],
      "metadata": {
        "colab": {
          "base_uri": "https://localhost:8080/",
          "height": 950
        },
        "id": "zq42Zl6jMzq9",
        "outputId": "714932ba-7d4f-441f-aeec-6aab6d7acf85"
      },
      "execution_count": 16,
      "outputs": [
        {
          "output_type": "stream",
          "name": "stdout",
          "text": [
            "🏗️ Building Improved Memory Network Architecture...\n"
          ]
        },
        {
          "output_type": "stream",
          "name": "stderr",
          "text": [
            "/usr/local/lib/python3.12/dist-packages/keras/src/layers/core/embedding.py:97: UserWarning: Argument `input_length` is deprecated. Just remove it.\n",
            "  warnings.warn(\n"
          ]
        },
        {
          "output_type": "stream",
          "name": "stdout",
          "text": [
            "✅ Improved model compiled successfully!\n"
          ]
        },
        {
          "output_type": "display_data",
          "data": {
            "text/plain": [
              "\u001b[1mModel: \"improved_memory_network\"\u001b[0m\n"
            ],
            "text/html": [
              "<pre style=\"white-space:pre;overflow-x:auto;line-height:normal;font-family:Menlo,'DejaVu Sans Mono',consolas,'Courier New',monospace\"><span style=\"font-weight: bold\">Model: \"improved_memory_network\"</span>\n",
              "</pre>\n"
            ]
          },
          "metadata": {}
        },
        {
          "output_type": "display_data",
          "data": {
            "text/plain": [
              "┏━━━━━━━━━━━━━━━━━━━━━┳━━━━━━━━━━━━━━━━━━━┳━━━━━━━━━━━━┳━━━━━━━━━━━━━━━━━━━┓\n",
              "┃\u001b[1m \u001b[0m\u001b[1mLayer (type)       \u001b[0m\u001b[1m \u001b[0m┃\u001b[1m \u001b[0m\u001b[1mOutput Shape     \u001b[0m\u001b[1m \u001b[0m┃\u001b[1m \u001b[0m\u001b[1m   Param #\u001b[0m\u001b[1m \u001b[0m┃\u001b[1m \u001b[0m\u001b[1mConnected to     \u001b[0m\u001b[1m \u001b[0m┃\n",
              "┡━━━━━━━━━━━━━━━━━━━━━╇━━━━━━━━━━━━━━━━━━━╇━━━━━━━━━━━━╇━━━━━━━━━━━━━━━━━━━┩\n",
              "│ story_input         │ (\u001b[38;5;45mNone\u001b[0m, \u001b[38;5;34m156\u001b[0m)       │          \u001b[38;5;34m0\u001b[0m │ -                 │\n",
              "│ (\u001b[38;5;33mInputLayer\u001b[0m)        │                   │            │                   │\n",
              "├─────────────────────┼───────────────────┼────────────┼───────────────────┤\n",
              "│ question_input      │ (\u001b[38;5;45mNone\u001b[0m, \u001b[38;5;34m6\u001b[0m)         │          \u001b[38;5;34m0\u001b[0m │ -                 │\n",
              "│ (\u001b[38;5;33mInputLayer\u001b[0m)        │                   │            │                   │\n",
              "├─────────────────────┼───────────────────┼────────────┼───────────────────┤\n",
              "│ memory_encoder      │ (\u001b[38;5;45mNone\u001b[0m, \u001b[38;5;34m156\u001b[0m, \u001b[38;5;34m128\u001b[0m)  │      \u001b[38;5;34m5,376\u001b[0m │ story_input[\u001b[38;5;34m0\u001b[0m][\u001b[38;5;34m0\u001b[0m] │\n",
              "│ (\u001b[38;5;33mSequential\u001b[0m)        │                   │            │                   │\n",
              "├─────────────────────┼───────────────────┼────────────┼───────────────────┤\n",
              "│ question_encoder    │ (\u001b[38;5;45mNone\u001b[0m, \u001b[38;5;34m6\u001b[0m, \u001b[38;5;34m128\u001b[0m)    │      \u001b[38;5;34m5,376\u001b[0m │ question_input[\u001b[38;5;34m0\u001b[0m… │\n",
              "│ (\u001b[38;5;33mSequential\u001b[0m)        │                   │            │                   │\n",
              "├─────────────────────┼───────────────────┼────────────┼───────────────────┤\n",
              "│ attention_dot (\u001b[38;5;33mDot\u001b[0m) │ (\u001b[38;5;45mNone\u001b[0m, \u001b[38;5;34m156\u001b[0m, \u001b[38;5;34m6\u001b[0m)    │          \u001b[38;5;34m0\u001b[0m │ memory_encoder[\u001b[38;5;34m0\u001b[0m… │\n",
              "│                     │                   │            │ question_encoder… │\n",
              "├─────────────────────┼───────────────────┼────────────┼───────────────────┤\n",
              "│ attention_weights   │ (\u001b[38;5;45mNone\u001b[0m, \u001b[38;5;34m156\u001b[0m, \u001b[38;5;34m6\u001b[0m)    │          \u001b[38;5;34m0\u001b[0m │ attention_dot[\u001b[38;5;34m0\u001b[0m]… │\n",
              "│ (\u001b[38;5;33mActivation\u001b[0m)        │                   │            │                   │\n",
              "├─────────────────────┼───────────────────┼────────────┼───────────────────┤\n",
              "│ context_encoder     │ (\u001b[38;5;45mNone\u001b[0m, \u001b[38;5;34m156\u001b[0m, \u001b[38;5;34m6\u001b[0m)    │        \u001b[38;5;34m252\u001b[0m │ story_input[\u001b[38;5;34m0\u001b[0m][\u001b[38;5;34m0\u001b[0m] │\n",
              "│ (\u001b[38;5;33mSequential\u001b[0m)        │                   │            │                   │\n",
              "├─────────────────────┼───────────────────┼────────────┼───────────────────┤\n",
              "│ response_combinati… │ (\u001b[38;5;45mNone\u001b[0m, \u001b[38;5;34m156\u001b[0m, \u001b[38;5;34m6\u001b[0m)    │          \u001b[38;5;34m0\u001b[0m │ attention_weight… │\n",
              "│ (\u001b[38;5;33mAdd\u001b[0m)               │                   │            │ context_encoder[\u001b[38;5;34m…\u001b[0m │\n",
              "├─────────────────────┼───────────────────┼────────────┼───────────────────┤\n",
              "│ response_permute    │ (\u001b[38;5;45mNone\u001b[0m, \u001b[38;5;34m6\u001b[0m, \u001b[38;5;34m156\u001b[0m)    │          \u001b[38;5;34m0\u001b[0m │ response_combina… │\n",
              "│ (\u001b[38;5;33mPermute\u001b[0m)           │                   │            │                   │\n",
              "├─────────────────────┼───────────────────┼────────────┼───────────────────┤\n",
              "│ final_concatenation │ (\u001b[38;5;45mNone\u001b[0m, \u001b[38;5;34m6\u001b[0m, \u001b[38;5;34m284\u001b[0m)    │          \u001b[38;5;34m0\u001b[0m │ response_permute… │\n",
              "│ (\u001b[38;5;33mConcatenate\u001b[0m)       │                   │            │ question_encoder… │\n",
              "├─────────────────────┼───────────────────┼────────────┼───────────────────┤\n",
              "│ bidirectional       │ (\u001b[38;5;45mNone\u001b[0m, \u001b[38;5;34m6\u001b[0m, \u001b[38;5;34m128\u001b[0m)    │    \u001b[38;5;34m178,688\u001b[0m │ final_concatenat… │\n",
              "│ (\u001b[38;5;33mBidirectional\u001b[0m)     │                   │            │                   │\n",
              "├─────────────────────┼───────────────────┼────────────┼───────────────────┤\n",
              "│ gru (\u001b[38;5;33mGRU\u001b[0m)           │ (\u001b[38;5;45mNone\u001b[0m, \u001b[38;5;34m32\u001b[0m)        │     \u001b[38;5;34m15,552\u001b[0m │ bidirectional[\u001b[38;5;34m0\u001b[0m]… │\n",
              "├─────────────────────┼───────────────────┼────────────┼───────────────────┤\n",
              "│ final_dropout       │ (\u001b[38;5;45mNone\u001b[0m, \u001b[38;5;34m32\u001b[0m)        │          \u001b[38;5;34m0\u001b[0m │ gru[\u001b[38;5;34m0\u001b[0m][\u001b[38;5;34m0\u001b[0m]         │\n",
              "│ (\u001b[38;5;33mDropout\u001b[0m)           │                   │            │                   │\n",
              "├─────────────────────┼───────────────────┼────────────┼───────────────────┤\n",
              "│ output_dense        │ (\u001b[38;5;45mNone\u001b[0m, \u001b[38;5;34m38\u001b[0m)        │      \u001b[38;5;34m1,254\u001b[0m │ final_dropout[\u001b[38;5;34m0\u001b[0m]… │\n",
              "│ (\u001b[38;5;33mDense\u001b[0m)             │                   │            │                   │\n",
              "├─────────────────────┼───────────────────┼────────────┼───────────────────┤\n",
              "│ final_activation    │ (\u001b[38;5;45mNone\u001b[0m, \u001b[38;5;34m38\u001b[0m)        │          \u001b[38;5;34m0\u001b[0m │ output_dense[\u001b[38;5;34m0\u001b[0m][\u001b[38;5;34m…\u001b[0m │\n",
              "│ (\u001b[38;5;33mActivation\u001b[0m)        │                   │            │                   │\n",
              "└─────────────────────┴───────────────────┴────────────┴───────────────────┘\n"
            ],
            "text/html": [
              "<pre style=\"white-space:pre;overflow-x:auto;line-height:normal;font-family:Menlo,'DejaVu Sans Mono',consolas,'Courier New',monospace\">┏━━━━━━━━━━━━━━━━━━━━━┳━━━━━━━━━━━━━━━━━━━┳━━━━━━━━━━━━┳━━━━━━━━━━━━━━━━━━━┓\n",
              "┃<span style=\"font-weight: bold\"> Layer (type)        </span>┃<span style=\"font-weight: bold\"> Output Shape      </span>┃<span style=\"font-weight: bold\">    Param # </span>┃<span style=\"font-weight: bold\"> Connected to      </span>┃\n",
              "┡━━━━━━━━━━━━━━━━━━━━━╇━━━━━━━━━━━━━━━━━━━╇━━━━━━━━━━━━╇━━━━━━━━━━━━━━━━━━━┩\n",
              "│ story_input         │ (<span style=\"color: #00d7ff; text-decoration-color: #00d7ff\">None</span>, <span style=\"color: #00af00; text-decoration-color: #00af00\">156</span>)       │          <span style=\"color: #00af00; text-decoration-color: #00af00\">0</span> │ -                 │\n",
              "│ (<span style=\"color: #0087ff; text-decoration-color: #0087ff\">InputLayer</span>)        │                   │            │                   │\n",
              "├─────────────────────┼───────────────────┼────────────┼───────────────────┤\n",
              "│ question_input      │ (<span style=\"color: #00d7ff; text-decoration-color: #00d7ff\">None</span>, <span style=\"color: #00af00; text-decoration-color: #00af00\">6</span>)         │          <span style=\"color: #00af00; text-decoration-color: #00af00\">0</span> │ -                 │\n",
              "│ (<span style=\"color: #0087ff; text-decoration-color: #0087ff\">InputLayer</span>)        │                   │            │                   │\n",
              "├─────────────────────┼───────────────────┼────────────┼───────────────────┤\n",
              "│ memory_encoder      │ (<span style=\"color: #00d7ff; text-decoration-color: #00d7ff\">None</span>, <span style=\"color: #00af00; text-decoration-color: #00af00\">156</span>, <span style=\"color: #00af00; text-decoration-color: #00af00\">128</span>)  │      <span style=\"color: #00af00; text-decoration-color: #00af00\">5,376</span> │ story_input[<span style=\"color: #00af00; text-decoration-color: #00af00\">0</span>][<span style=\"color: #00af00; text-decoration-color: #00af00\">0</span>] │\n",
              "│ (<span style=\"color: #0087ff; text-decoration-color: #0087ff\">Sequential</span>)        │                   │            │                   │\n",
              "├─────────────────────┼───────────────────┼────────────┼───────────────────┤\n",
              "│ question_encoder    │ (<span style=\"color: #00d7ff; text-decoration-color: #00d7ff\">None</span>, <span style=\"color: #00af00; text-decoration-color: #00af00\">6</span>, <span style=\"color: #00af00; text-decoration-color: #00af00\">128</span>)    │      <span style=\"color: #00af00; text-decoration-color: #00af00\">5,376</span> │ question_input[<span style=\"color: #00af00; text-decoration-color: #00af00\">0</span>… │\n",
              "│ (<span style=\"color: #0087ff; text-decoration-color: #0087ff\">Sequential</span>)        │                   │            │                   │\n",
              "├─────────────────────┼───────────────────┼────────────┼───────────────────┤\n",
              "│ attention_dot (<span style=\"color: #0087ff; text-decoration-color: #0087ff\">Dot</span>) │ (<span style=\"color: #00d7ff; text-decoration-color: #00d7ff\">None</span>, <span style=\"color: #00af00; text-decoration-color: #00af00\">156</span>, <span style=\"color: #00af00; text-decoration-color: #00af00\">6</span>)    │          <span style=\"color: #00af00; text-decoration-color: #00af00\">0</span> │ memory_encoder[<span style=\"color: #00af00; text-decoration-color: #00af00\">0</span>… │\n",
              "│                     │                   │            │ question_encoder… │\n",
              "├─────────────────────┼───────────────────┼────────────┼───────────────────┤\n",
              "│ attention_weights   │ (<span style=\"color: #00d7ff; text-decoration-color: #00d7ff\">None</span>, <span style=\"color: #00af00; text-decoration-color: #00af00\">156</span>, <span style=\"color: #00af00; text-decoration-color: #00af00\">6</span>)    │          <span style=\"color: #00af00; text-decoration-color: #00af00\">0</span> │ attention_dot[<span style=\"color: #00af00; text-decoration-color: #00af00\">0</span>]… │\n",
              "│ (<span style=\"color: #0087ff; text-decoration-color: #0087ff\">Activation</span>)        │                   │            │                   │\n",
              "├─────────────────────┼───────────────────┼────────────┼───────────────────┤\n",
              "│ context_encoder     │ (<span style=\"color: #00d7ff; text-decoration-color: #00d7ff\">None</span>, <span style=\"color: #00af00; text-decoration-color: #00af00\">156</span>, <span style=\"color: #00af00; text-decoration-color: #00af00\">6</span>)    │        <span style=\"color: #00af00; text-decoration-color: #00af00\">252</span> │ story_input[<span style=\"color: #00af00; text-decoration-color: #00af00\">0</span>][<span style=\"color: #00af00; text-decoration-color: #00af00\">0</span>] │\n",
              "│ (<span style=\"color: #0087ff; text-decoration-color: #0087ff\">Sequential</span>)        │                   │            │                   │\n",
              "├─────────────────────┼───────────────────┼────────────┼───────────────────┤\n",
              "│ response_combinati… │ (<span style=\"color: #00d7ff; text-decoration-color: #00d7ff\">None</span>, <span style=\"color: #00af00; text-decoration-color: #00af00\">156</span>, <span style=\"color: #00af00; text-decoration-color: #00af00\">6</span>)    │          <span style=\"color: #00af00; text-decoration-color: #00af00\">0</span> │ attention_weight… │\n",
              "│ (<span style=\"color: #0087ff; text-decoration-color: #0087ff\">Add</span>)               │                   │            │ context_encoder[<span style=\"color: #00af00; text-decoration-color: #00af00\">…</span> │\n",
              "├─────────────────────┼───────────────────┼────────────┼───────────────────┤\n",
              "│ response_permute    │ (<span style=\"color: #00d7ff; text-decoration-color: #00d7ff\">None</span>, <span style=\"color: #00af00; text-decoration-color: #00af00\">6</span>, <span style=\"color: #00af00; text-decoration-color: #00af00\">156</span>)    │          <span style=\"color: #00af00; text-decoration-color: #00af00\">0</span> │ response_combina… │\n",
              "│ (<span style=\"color: #0087ff; text-decoration-color: #0087ff\">Permute</span>)           │                   │            │                   │\n",
              "├─────────────────────┼───────────────────┼────────────┼───────────────────┤\n",
              "│ final_concatenation │ (<span style=\"color: #00d7ff; text-decoration-color: #00d7ff\">None</span>, <span style=\"color: #00af00; text-decoration-color: #00af00\">6</span>, <span style=\"color: #00af00; text-decoration-color: #00af00\">284</span>)    │          <span style=\"color: #00af00; text-decoration-color: #00af00\">0</span> │ response_permute… │\n",
              "│ (<span style=\"color: #0087ff; text-decoration-color: #0087ff\">Concatenate</span>)       │                   │            │ question_encoder… │\n",
              "├─────────────────────┼───────────────────┼────────────┼───────────────────┤\n",
              "│ bidirectional       │ (<span style=\"color: #00d7ff; text-decoration-color: #00d7ff\">None</span>, <span style=\"color: #00af00; text-decoration-color: #00af00\">6</span>, <span style=\"color: #00af00; text-decoration-color: #00af00\">128</span>)    │    <span style=\"color: #00af00; text-decoration-color: #00af00\">178,688</span> │ final_concatenat… │\n",
              "│ (<span style=\"color: #0087ff; text-decoration-color: #0087ff\">Bidirectional</span>)     │                   │            │                   │\n",
              "├─────────────────────┼───────────────────┼────────────┼───────────────────┤\n",
              "│ gru (<span style=\"color: #0087ff; text-decoration-color: #0087ff\">GRU</span>)           │ (<span style=\"color: #00d7ff; text-decoration-color: #00d7ff\">None</span>, <span style=\"color: #00af00; text-decoration-color: #00af00\">32</span>)        │     <span style=\"color: #00af00; text-decoration-color: #00af00\">15,552</span> │ bidirectional[<span style=\"color: #00af00; text-decoration-color: #00af00\">0</span>]… │\n",
              "├─────────────────────┼───────────────────┼────────────┼───────────────────┤\n",
              "│ final_dropout       │ (<span style=\"color: #00d7ff; text-decoration-color: #00d7ff\">None</span>, <span style=\"color: #00af00; text-decoration-color: #00af00\">32</span>)        │          <span style=\"color: #00af00; text-decoration-color: #00af00\">0</span> │ gru[<span style=\"color: #00af00; text-decoration-color: #00af00\">0</span>][<span style=\"color: #00af00; text-decoration-color: #00af00\">0</span>]         │\n",
              "│ (<span style=\"color: #0087ff; text-decoration-color: #0087ff\">Dropout</span>)           │                   │            │                   │\n",
              "├─────────────────────┼───────────────────┼────────────┼───────────────────┤\n",
              "│ output_dense        │ (<span style=\"color: #00d7ff; text-decoration-color: #00d7ff\">None</span>, <span style=\"color: #00af00; text-decoration-color: #00af00\">38</span>)        │      <span style=\"color: #00af00; text-decoration-color: #00af00\">1,254</span> │ final_dropout[<span style=\"color: #00af00; text-decoration-color: #00af00\">0</span>]… │\n",
              "│ (<span style=\"color: #0087ff; text-decoration-color: #0087ff\">Dense</span>)             │                   │            │                   │\n",
              "├─────────────────────┼───────────────────┼────────────┼───────────────────┤\n",
              "│ final_activation    │ (<span style=\"color: #00d7ff; text-decoration-color: #00d7ff\">None</span>, <span style=\"color: #00af00; text-decoration-color: #00af00\">38</span>)        │          <span style=\"color: #00af00; text-decoration-color: #00af00\">0</span> │ output_dense[<span style=\"color: #00af00; text-decoration-color: #00af00\">0</span>][<span style=\"color: #00af00; text-decoration-color: #00af00\">…</span> │\n",
              "│ (<span style=\"color: #0087ff; text-decoration-color: #0087ff\">Activation</span>)        │                   │            │                   │\n",
              "└─────────────────────┴───────────────────┴────────────┴───────────────────┘\n",
              "</pre>\n"
            ]
          },
          "metadata": {}
        },
        {
          "output_type": "display_data",
          "data": {
            "text/plain": [
              "\u001b[1m Total params: \u001b[0m\u001b[38;5;34m206,498\u001b[0m (806.63 KB)\n"
            ],
            "text/html": [
              "<pre style=\"white-space:pre;overflow-x:auto;line-height:normal;font-family:Menlo,'DejaVu Sans Mono',consolas,'Courier New',monospace\"><span style=\"font-weight: bold\"> Total params: </span><span style=\"color: #00af00; text-decoration-color: #00af00\">206,498</span> (806.63 KB)\n",
              "</pre>\n"
            ]
          },
          "metadata": {}
        },
        {
          "output_type": "display_data",
          "data": {
            "text/plain": [
              "\u001b[1m Trainable params: \u001b[0m\u001b[38;5;34m205,974\u001b[0m (804.59 KB)\n"
            ],
            "text/html": [
              "<pre style=\"white-space:pre;overflow-x:auto;line-height:normal;font-family:Menlo,'DejaVu Sans Mono',consolas,'Courier New',monospace\"><span style=\"font-weight: bold\"> Trainable params: </span><span style=\"color: #00af00; text-decoration-color: #00af00\">205,974</span> (804.59 KB)\n",
              "</pre>\n"
            ]
          },
          "metadata": {}
        },
        {
          "output_type": "display_data",
          "data": {
            "text/plain": [
              "\u001b[1m Non-trainable params: \u001b[0m\u001b[38;5;34m524\u001b[0m (2.05 KB)\n"
            ],
            "text/html": [
              "<pre style=\"white-space:pre;overflow-x:auto;line-height:normal;font-family:Menlo,'DejaVu Sans Mono',consolas,'Courier New',monospace\"><span style=\"font-weight: bold\"> Non-trainable params: </span><span style=\"color: #00af00; text-decoration-color: #00af00\">524</span> (2.05 KB)\n",
              "</pre>\n"
            ]
          },
          "metadata": {}
        }
      ]
    },
    {
      "cell_type": "code",
      "source": [],
      "metadata": {
        "id": "Q8xP6zcXNOOn"
      },
      "execution_count": 16,
      "outputs": []
    },
    {
      "cell_type": "markdown",
      "metadata": {
        "id": "5ac59116"
      },
      "source": [
        "# ***NLP PIPELINE & WORKFLOW OPTIMIZATION***\n",
        "Training Strategy:\n",
        "1. **Batch Processing**: Efficient memory usage (Increased batch size to 64)\n",
        "2. **Early Stopping**: Prevent overfitting (Increased patience to 10, added min_delta)\n",
        "3. **Model Checkpointing**: Save best weights\n",
        "4. **Learning Rate Scheduling**: Adaptive learning (Exponential decay and ReduceLROnPlateau)\n",
        "5. **Shuffling**: Important for better training\n",
        "\n",
        "Monitoring Metrics:\n",
        "- Training/Validation Loss\n",
        "- Training/Validation Accuracy\n",
        "- Top-K Categorical Accuracy (Added metric)\n",
        "- Convergence Analysis (Visualized with loss plots)"
      ]
    },
    {
      "cell_type": "code",
      "source": [
        "# ENHANCED TRAINING WITH LEARNING RATE SCHEDULING\n",
        "def setup_improved_callbacks(model_name=\"best_improved_chatbot.h5\"):\n",
        "    \"\"\"Configure enhanced training callbacks\"\"\"\n",
        "\n",
        "    callbacks = [\n",
        "        EarlyStopping(\n",
        "            monitor='val_accuracy',\n",
        "            patience=10,  # Increased patience\n",
        "            restore_best_weights=True,\n",
        "            verbose=1,\n",
        "            min_delta=0.001  # Minimum improvement threshold\n",
        "        ),\n",
        "        ModelCheckpoint(\n",
        "            model_name,\n",
        "            monitor='val_accuracy',\n",
        "            save_best_only=True,\n",
        "            verbose=1\n",
        "        ),\n",
        "        tf.keras.callbacks.ReduceLROnPlateau(\n",
        "            monitor='val_loss',\n",
        "            factor=0.5,\n",
        "            patience=5,\n",
        "            min_lr=1e-7,\n",
        "            verbose=1\n",
        "        ),\n",
        "        tf.keras.callbacks.LearningRateScheduler(\n",
        "            lambda epoch: 0.001 * (0.95 ** epoch)\n",
        "        )\n",
        "    ]\n",
        "\n",
        "    return callbacks\n",
        "\n",
        "# IMPROVED TRAINING FUNCTION\n",
        "def train_improved_model(model, inputs_train, queries_train, answers_train,\n",
        "                        inputs_test, queries_test, answers_test,\n",
        "                        epochs=50, batch_size=64):  # Increased epochs and batch size\n",
        "    \"\"\"Train the improved memory network model\"\"\"\n",
        "\n",
        "    print(\"🚀 Starting improved model training...\")\n",
        "\n",
        "    callbacks = setup_improved_callbacks()\n",
        "\n",
        "    history = model.fit(\n",
        "        [inputs_train, queries_train],\n",
        "        answers_train,\n",
        "        batch_size=batch_size,\n",
        "        epochs=epochs,\n",
        "        verbose=1,\n",
        "        validation_data=([inputs_test, queries_test], answers_test),\n",
        "        callbacks=callbacks,\n",
        "        shuffle=True  # Important for better training\n",
        "    )\n",
        "\n",
        "    print(\"✅ Improved training completed!\")\n",
        "    return history\n",
        "\n",
        "# Assume plot_training_history is defined here or imported from a previous cell\n",
        "def plot_training_history(history):\n",
        "    \"\"\"Visualize training progress\"\"\"\n",
        "\n",
        "    fig, axes = plt.subplots(2, 2, figsize=(15, 10))\n",
        "\n",
        "    # Training & Validation Loss\n",
        "    axes[0, 0].plot(history.history['loss'], label='Training Loss', color='blue')\n",
        "    axes[0, 0].plot(history.history['val_loss'], label='Validation Loss', color='red')\n",
        "    axes[0, 0].set_title('Model Loss Over Time')\n",
        "    axes[0, 0].set_xlabel('Epochs')\n",
        "    axes[0, 0].set_ylabel('Loss')\n",
        "    axes[0, 0].legend()\n",
        "    axes[0, 0].grid(True, alpha=0.3)\n",
        "\n",
        "    # Training & Validation Accuracy\n",
        "    axes[0, 1].plot(history.history['accuracy'], label='Training Accuracy', color='green')\n",
        "    axes[0, 1].plot(history.history['val_accuracy'], label='Validation Accuracy', color='orange')\n",
        "    axes[0, 1].set_title('Model Accuracy Over Time')\n",
        "    axes[0, 1].set_xlabel('Epochs')\n",
        "    axes[0, 1].set_ylabel('Accuracy')\n",
        "    axes[0, 1].legend()\n",
        "    axes[0, 1].grid(True, alpha=0.3)\n",
        "\n",
        "    # Learning Rate vs Loss\n",
        "    axes[1, 0].plot(history.history['loss'], color='purple')\n",
        "    axes[1, 0].set_title('Training Loss Convergence')\n",
        "    axes[1, 0].set_xlabel('Epochs')\n",
        "    axes[1, 0].set_ylabel('Training Loss')\n",
        "    axes[1, 0].grid(True, alpha=0.3)\n",
        "\n",
        "    # Performance Metrics Summary\n",
        "    final_train_acc = history.history['accuracy'][-1]\n",
        "    final_val_acc = history.history['val_accuracy'][-1]\n",
        "    final_train_loss = history.history['loss'][-1]\n",
        "    final_val_loss = history.history['val_loss'][-1]\n",
        "\n",
        "    metrics_text = f\"\"\"\n",
        "    Final Metrics:\n",
        "\n",
        "    Training Accuracy: {final_train_acc:.4f}\n",
        "    Validation Accuracy: {final_val_acc:.4f}\n",
        "\n",
        "    Training Loss: {final_train_loss:.4f}\n",
        "    Validation Loss: {final_val_loss:.4f}\n",
        "\n",
        "    Overfitting Check:\n",
        "    Acc Diff: {final_train_acc - final_val_acc:.4f}\n",
        "    Loss Diff: {final_val_loss - final_train_loss:.4f}\n",
        "    \"\"\"\n",
        "\n",
        "    axes[1, 1].text(0.1, 0.5, metrics_text, fontsize=12, verticalalignment='center')\n",
        "    axes[1, 1].set_title('Training Summary')\n",
        "    axes[1, 1].axis('off')\n",
        "\n",
        "    plt.tight_layout()\n",
        "    plt.show()\n",
        "\n",
        "history_improved = train_improved_model(improved_model, inputs_train, queries_train, answers_train,\n",
        "                                        inputs_test, queries_test, answers_test)\n",
        "plot_training_history(history_improved)"
      ],
      "metadata": {
        "colab": {
          "base_uri": "https://localhost:8080/",
          "height": 3785
        },
        "id": "rbMBXFXfIVSZ",
        "outputId": "f08c3094-c1d3-4b70-8c08-bf60e31c371a"
      },
      "execution_count": 17,
      "outputs": [
        {
          "output_type": "stream",
          "name": "stdout",
          "text": [
            "🚀 Starting improved model training...\n",
            "Epoch 1/50\n",
            "\u001b[1m156/157\u001b[0m \u001b[32m━━━━━━━━━━━━━━━━━━━\u001b[0m\u001b[37m━\u001b[0m \u001b[1m0s\u001b[0m 12ms/step - accuracy: 0.4365 - loss: 2.3104 - top_k_categorical_accuracy: 0.9102\n",
            "Epoch 1: val_accuracy improved from -inf to 0.50300, saving model to best_improved_chatbot.h5\n"
          ]
        },
        {
          "output_type": "stream",
          "name": "stderr",
          "text": [
            "WARNING:absl:You are saving your model as an HDF5 file via `model.save()` or `keras.saving.save_model(model)`. This file format is considered legacy. We recommend using instead the native Keras format, e.g. `model.save('my_model.keras')` or `keras.saving.save_model(model, 'my_model.keras')`. \n"
          ]
        },
        {
          "output_type": "stream",
          "name": "stdout",
          "text": [
            "\b\b\b\b\b\b\b\b\b\b\b\b\b\b\b\b\b\b\b\b\b\b\b\b\b\b\b\b\b\b\b\b\b\b\b\b\b\b\b\b\b\b\b\b\b\b\b\b\b\b\b\b\b\b\b\b\b\b\b\b\b\b\b\b\b\b\b\b\b\b\b\b\b\b\b\b\b\b\b\b\b\b\b\b\b\b\b\b\b\b\b\b\b\b\b\b\b\b\b\b\b\b\b\b\b\b\b\b\b\b\b\b\r\u001b[1m157/157\u001b[0m \u001b[32m━━━━━━━━━━━━━━━━━━━━\u001b[0m\u001b[37m\u001b[0m \u001b[1m16s\u001b[0m 17ms/step - accuracy: 0.4370 - loss: 2.3019 - top_k_categorical_accuracy: 0.9110 - val_accuracy: 0.5030 - val_loss: 0.9546 - val_top_k_categorical_accuracy: 1.0000 - learning_rate: 0.0010\n",
            "Epoch 2/50\n",
            "\u001b[1m156/157\u001b[0m \u001b[32m━━━━━━━━━━━━━━━━━━━\u001b[0m\u001b[37m━\u001b[0m \u001b[1m0s\u001b[0m 12ms/step - accuracy: 0.5045 - loss: 0.9858 - top_k_categorical_accuracy: 1.0000\n",
            "Epoch 2: val_accuracy did not improve from 0.50300\n",
            "\u001b[1m157/157\u001b[0m \u001b[32m━━━━━━━━━━━━━━━━━━━━\u001b[0m\u001b[37m\u001b[0m \u001b[1m2s\u001b[0m 13ms/step - accuracy: 0.5045 - loss: 0.9853 - top_k_categorical_accuracy: 1.0000 - val_accuracy: 0.4940 - val_loss: 0.8133 - val_top_k_categorical_accuracy: 1.0000 - learning_rate: 9.5000e-04\n",
            "Epoch 3/50\n",
            "\u001b[1m154/157\u001b[0m \u001b[32m━━━━━━━━━━━━━━━━━━━\u001b[0m\u001b[37m━\u001b[0m \u001b[1m0s\u001b[0m 12ms/step - accuracy: 0.5033 - loss: 0.8419 - top_k_categorical_accuracy: 1.0000\n",
            "Epoch 3: val_accuracy did not improve from 0.50300\n",
            "\u001b[1m157/157\u001b[0m \u001b[32m━━━━━━━━━━━━━━━━━━━━\u001b[0m\u001b[37m\u001b[0m \u001b[1m2s\u001b[0m 13ms/step - accuracy: 0.5033 - loss: 0.8415 - top_k_categorical_accuracy: 1.0000 - val_accuracy: 0.5020 - val_loss: 0.7697 - val_top_k_categorical_accuracy: 1.0000 - learning_rate: 9.0250e-04\n",
            "Epoch 4/50\n",
            "\u001b[1m153/157\u001b[0m \u001b[32m━━━━━━━━━━━━━━━━━━━\u001b[0m\u001b[37m━\u001b[0m \u001b[1m0s\u001b[0m 12ms/step - accuracy: 0.4994 - loss: 0.7897 - top_k_categorical_accuracy: 1.0000\n",
            "Epoch 4: val_accuracy did not improve from 0.50300\n",
            "\u001b[1m157/157\u001b[0m \u001b[32m━━━━━━━━━━━━━━━━━━━━\u001b[0m\u001b[37m\u001b[0m \u001b[1m3s\u001b[0m 13ms/step - accuracy: 0.4994 - loss: 0.7895 - top_k_categorical_accuracy: 1.0000 - val_accuracy: 0.5030 - val_loss: 0.7495 - val_top_k_categorical_accuracy: 1.0000 - learning_rate: 8.5737e-04\n",
            "Epoch 5/50\n",
            "\u001b[1m156/157\u001b[0m \u001b[32m━━━━━━━━━━━━━━━━━━━\u001b[0m\u001b[37m━\u001b[0m \u001b[1m0s\u001b[0m 19ms/step - accuracy: 0.5111 - loss: 0.7607 - top_k_categorical_accuracy: 1.0000\n",
            "Epoch 5: val_accuracy did not improve from 0.50300\n",
            "\u001b[1m157/157\u001b[0m \u001b[32m━━━━━━━━━━━━━━━━━━━━\u001b[0m\u001b[37m\u001b[0m \u001b[1m4s\u001b[0m 21ms/step - accuracy: 0.5109 - loss: 0.7607 - top_k_categorical_accuracy: 1.0000 - val_accuracy: 0.5030 - val_loss: 0.7377 - val_top_k_categorical_accuracy: 1.0000 - learning_rate: 8.1451e-04\n",
            "Epoch 6/50\n",
            "\u001b[1m153/157\u001b[0m \u001b[32m━━━━━━━━━━━━━━━━━━━\u001b[0m\u001b[37m━\u001b[0m \u001b[1m0s\u001b[0m 12ms/step - accuracy: 0.4986 - loss: 0.7490 - top_k_categorical_accuracy: 1.0000\n",
            "Epoch 6: val_accuracy did not improve from 0.50300\n",
            "\u001b[1m157/157\u001b[0m \u001b[32m━━━━━━━━━━━━━━━━━━━━\u001b[0m\u001b[37m\u001b[0m \u001b[1m2s\u001b[0m 14ms/step - accuracy: 0.4988 - loss: 0.7489 - top_k_categorical_accuracy: 1.0000 - val_accuracy: 0.4990 - val_loss: 0.7293 - val_top_k_categorical_accuracy: 1.0000 - learning_rate: 7.7378e-04\n",
            "Epoch 7/50\n",
            "\u001b[1m156/157\u001b[0m \u001b[32m━━━━━━━━━━━━━━━━━━━\u001b[0m\u001b[37m━\u001b[0m \u001b[1m0s\u001b[0m 14ms/step - accuracy: 0.5325 - loss: 0.7331 - top_k_categorical_accuracy: 1.0000\n",
            "Epoch 7: val_accuracy improved from 0.50300 to 0.66800, saving model to best_improved_chatbot.h5\n"
          ]
        },
        {
          "output_type": "stream",
          "name": "stderr",
          "text": [
            "WARNING:absl:You are saving your model as an HDF5 file via `model.save()` or `keras.saving.save_model(model)`. This file format is considered legacy. We recommend using instead the native Keras format, e.g. `model.save('my_model.keras')` or `keras.saving.save_model(model, 'my_model.keras')`. \n"
          ]
        },
        {
          "output_type": "stream",
          "name": "stdout",
          "text": [
            "\b\b\b\b\b\b\b\b\b\b\b\b\b\b\b\b\b\b\b\b\b\b\b\b\b\b\b\b\b\b\b\b\b\b\b\b\b\b\b\b\b\b\b\b\b\b\b\b\b\b\b\b\b\b\b\b\b\b\b\b\b\b\b\b\b\b\b\b\b\b\b\b\b\b\b\b\b\b\b\b\b\b\b\b\b\b\b\b\b\b\b\b\b\b\b\b\b\b\b\b\b\b\b\b\b\b\b\b\b\b\b\b\r\u001b[1m157/157\u001b[0m \u001b[32m━━━━━━━━━━━━━━━━━━━━\u001b[0m\u001b[37m\u001b[0m \u001b[1m3s\u001b[0m 15ms/step - accuracy: 0.5329 - loss: 0.7330 - top_k_categorical_accuracy: 1.0000 - val_accuracy: 0.6680 - val_loss: 0.6862 - val_top_k_categorical_accuracy: 1.0000 - learning_rate: 7.3509e-04\n",
            "Epoch 8/50\n",
            "\u001b[1m157/157\u001b[0m \u001b[32m━━━━━━━━━━━━━━━━━━━━\u001b[0m\u001b[37m\u001b[0m \u001b[1m0s\u001b[0m 12ms/step - accuracy: 0.6173 - loss: 0.7057 - top_k_categorical_accuracy: 1.0000\n",
            "Epoch 8: val_accuracy improved from 0.66800 to 0.67000, saving model to best_improved_chatbot.h5\n"
          ]
        },
        {
          "output_type": "stream",
          "name": "stderr",
          "text": [
            "WARNING:absl:You are saving your model as an HDF5 file via `model.save()` or `keras.saving.save_model(model)`. This file format is considered legacy. We recommend using instead the native Keras format, e.g. `model.save('my_model.keras')` or `keras.saving.save_model(model, 'my_model.keras')`. \n"
          ]
        },
        {
          "output_type": "stream",
          "name": "stdout",
          "text": [
            "\b\b\b\b\b\b\b\b\b\b\b\b\b\b\b\b\b\b\b\b\b\b\b\b\b\b\b\b\b\b\b\b\b\b\b\b\b\b\b\b\b\b\b\b\b\b\b\b\b\b\b\b\b\b\b\b\b\b\b\b\b\b\b\b\b\b\b\b\b\b\b\b\b\b\b\b\b\b\b\b\b\b\b\b\b\b\b\b\b\b\b\b\b\b\b\b\b\b\b\b\b\b\b\b\b\b\b\b\b\b\b\b\r\u001b[1m157/157\u001b[0m \u001b[32m━━━━━━━━━━━━━━━━━━━━\u001b[0m\u001b[37m\u001b[0m \u001b[1m2s\u001b[0m 14ms/step - accuracy: 0.6174 - loss: 0.7056 - top_k_categorical_accuracy: 1.0000 - val_accuracy: 0.6700 - val_loss: 0.6715 - val_top_k_categorical_accuracy: 1.0000 - learning_rate: 6.9834e-04\n",
            "Epoch 9/50\n",
            "\u001b[1m157/157\u001b[0m \u001b[32m━━━━━━━━━━━━━━━━━━━━\u001b[0m\u001b[37m\u001b[0m \u001b[1m0s\u001b[0m 12ms/step - accuracy: 0.6432 - loss: 0.6897 - top_k_categorical_accuracy: 1.0000\n",
            "Epoch 9: val_accuracy did not improve from 0.67000\n",
            "\u001b[1m157/157\u001b[0m \u001b[32m━━━━━━━━━━━━━━━━━━━━\u001b[0m\u001b[37m\u001b[0m \u001b[1m2s\u001b[0m 13ms/step - accuracy: 0.6432 - loss: 0.6897 - top_k_categorical_accuracy: 1.0000 - val_accuracy: 0.6660 - val_loss: 0.6542 - val_top_k_categorical_accuracy: 1.0000 - learning_rate: 6.6342e-04\n",
            "Epoch 10/50\n",
            "\u001b[1m157/157\u001b[0m \u001b[32m━━━━━━━━━━━━━━━━━━━━\u001b[0m\u001b[37m\u001b[0m \u001b[1m0s\u001b[0m 19ms/step - accuracy: 0.6500 - loss: 0.6787 - top_k_categorical_accuracy: 1.0000\n",
            "Epoch 10: val_accuracy improved from 0.67000 to 0.68400, saving model to best_improved_chatbot.h5\n"
          ]
        },
        {
          "output_type": "stream",
          "name": "stderr",
          "text": [
            "WARNING:absl:You are saving your model as an HDF5 file via `model.save()` or `keras.saving.save_model(model)`. This file format is considered legacy. We recommend using instead the native Keras format, e.g. `model.save('my_model.keras')` or `keras.saving.save_model(model, 'my_model.keras')`. \n"
          ]
        },
        {
          "output_type": "stream",
          "name": "stdout",
          "text": [
            "\b\b\b\b\b\b\b\b\b\b\b\b\b\b\b\b\b\b\b\b\b\b\b\b\b\b\b\b\b\b\b\b\b\b\b\b\b\b\b\b\b\b\b\b\b\b\b\b\b\b\b\b\b\b\b\b\b\b\b\b\b\b\b\b\b\b\b\b\b\b\b\b\b\b\b\b\b\b\b\b\b\b\b\b\b\b\b\b\b\b\b\b\b\b\b\b\b\b\b\b\b\b\b\b\b\b\b\b\b\b\b\b\r\u001b[1m157/157\u001b[0m \u001b[32m━━━━━━━━━━━━━━━━━━━━\u001b[0m\u001b[37m\u001b[0m \u001b[1m4s\u001b[0m 20ms/step - accuracy: 0.6501 - loss: 0.6787 - top_k_categorical_accuracy: 1.0000 - val_accuracy: 0.6840 - val_loss: 0.6398 - val_top_k_categorical_accuracy: 1.0000 - learning_rate: 6.3025e-04\n",
            "Epoch 11/50\n",
            "\u001b[1m154/157\u001b[0m \u001b[32m━━━━━━━━━━━━━━━━━━━\u001b[0m\u001b[37m━\u001b[0m \u001b[1m0s\u001b[0m 13ms/step - accuracy: 0.6745 - loss: 0.6635 - top_k_categorical_accuracy: 1.0000\n",
            "Epoch 11: val_accuracy improved from 0.68400 to 0.69600, saving model to best_improved_chatbot.h5\n"
          ]
        },
        {
          "output_type": "stream",
          "name": "stderr",
          "text": [
            "WARNING:absl:You are saving your model as an HDF5 file via `model.save()` or `keras.saving.save_model(model)`. This file format is considered legacy. We recommend using instead the native Keras format, e.g. `model.save('my_model.keras')` or `keras.saving.save_model(model, 'my_model.keras')`. \n"
          ]
        },
        {
          "output_type": "stream",
          "name": "stdout",
          "text": [
            "\b\b\b\b\b\b\b\b\b\b\b\b\b\b\b\b\b\b\b\b\b\b\b\b\b\b\b\b\b\b\b\b\b\b\b\b\b\b\b\b\b\b\b\b\b\b\b\b\b\b\b\b\b\b\b\b\b\b\b\b\b\b\b\b\b\b\b\b\b\b\b\b\b\b\b\b\b\b\b\b\b\b\b\b\b\b\b\b\b\b\b\b\b\b\b\b\b\b\b\b\b\b\b\b\b\b\b\b\b\b\b\b\r\u001b[1m157/157\u001b[0m \u001b[32m━━━━━━━━━━━━━━━━━━━━\u001b[0m\u001b[37m\u001b[0m \u001b[1m4s\u001b[0m 14ms/step - accuracy: 0.6743 - loss: 0.6636 - top_k_categorical_accuracy: 1.0000 - val_accuracy: 0.6960 - val_loss: 0.6287 - val_top_k_categorical_accuracy: 1.0000 - learning_rate: 5.9874e-04\n",
            "Epoch 12/50\n",
            "\u001b[1m153/157\u001b[0m \u001b[32m━━━━━━━━━━━━━━━━━━━\u001b[0m\u001b[37m━\u001b[0m \u001b[1m0s\u001b[0m 12ms/step - accuracy: 0.6916 - loss: 0.6504 - top_k_categorical_accuracy: 1.0000\n",
            "Epoch 12: val_accuracy improved from 0.69600 to 0.72500, saving model to best_improved_chatbot.h5\n"
          ]
        },
        {
          "output_type": "stream",
          "name": "stderr",
          "text": [
            "WARNING:absl:You are saving your model as an HDF5 file via `model.save()` or `keras.saving.save_model(model)`. This file format is considered legacy. We recommend using instead the native Keras format, e.g. `model.save('my_model.keras')` or `keras.saving.save_model(model, 'my_model.keras')`. \n"
          ]
        },
        {
          "output_type": "stream",
          "name": "stdout",
          "text": [
            "\b\b\b\b\b\b\b\b\b\b\b\b\b\b\b\b\b\b\b\b\b\b\b\b\b\b\b\b\b\b\b\b\b\b\b\b\b\b\b\b\b\b\b\b\b\b\b\b\b\b\b\b\b\b\b\b\b\b\b\b\b\b\b\b\b\b\b\b\b\b\b\b\b\b\b\b\b\b\b\b\b\b\b\b\b\b\b\b\b\b\b\b\b\b\b\b\b\b\b\b\b\b\b\b\b\b\b\b\b\b\b\b\r\u001b[1m157/157\u001b[0m \u001b[32m━━━━━━━━━━━━━━━━━━━━\u001b[0m\u001b[37m\u001b[0m \u001b[1m2s\u001b[0m 14ms/step - accuracy: 0.6916 - loss: 0.6503 - top_k_categorical_accuracy: 1.0000 - val_accuracy: 0.7250 - val_loss: 0.6015 - val_top_k_categorical_accuracy: 1.0000 - learning_rate: 5.6880e-04\n",
            "Epoch 13/50\n",
            "\u001b[1m157/157\u001b[0m \u001b[32m━━━━━━━━━━━━━━━━━━━━\u001b[0m\u001b[37m\u001b[0m \u001b[1m0s\u001b[0m 13ms/step - accuracy: 0.7159 - loss: 0.6212 - top_k_categorical_accuracy: 1.0000\n",
            "Epoch 13: val_accuracy improved from 0.72500 to 0.75200, saving model to best_improved_chatbot.h5\n"
          ]
        },
        {
          "output_type": "stream",
          "name": "stderr",
          "text": [
            "WARNING:absl:You are saving your model as an HDF5 file via `model.save()` or `keras.saving.save_model(model)`. This file format is considered legacy. We recommend using instead the native Keras format, e.g. `model.save('my_model.keras')` or `keras.saving.save_model(model, 'my_model.keras')`. \n"
          ]
        },
        {
          "output_type": "stream",
          "name": "stdout",
          "text": [
            "\b\b\b\b\b\b\b\b\b\b\b\b\b\b\b\b\b\b\b\b\b\b\b\b\b\b\b\b\b\b\b\b\b\b\b\b\b\b\b\b\b\b\b\b\b\b\b\b\b\b\b\b\b\b\b\b\b\b\b\b\b\b\b\b\b\b\b\b\b\b\b\b\b\b\b\b\b\b\b\b\b\b\b\b\b\b\b\b\b\b\b\b\b\b\b\b\b\b\b\b\b\b\b\b\b\b\b\b\b\b\b\b\r\u001b[1m157/157\u001b[0m \u001b[32m━━━━━━━━━━━━━━━━━━━━\u001b[0m\u001b[37m\u001b[0m \u001b[1m2s\u001b[0m 14ms/step - accuracy: 0.7158 - loss: 0.6212 - top_k_categorical_accuracy: 1.0000 - val_accuracy: 0.7520 - val_loss: 0.5775 - val_top_k_categorical_accuracy: 1.0000 - learning_rate: 5.4036e-04\n",
            "Epoch 14/50\n",
            "\u001b[1m156/157\u001b[0m \u001b[32m━━━━━━━━━━━━━━━━━━━\u001b[0m\u001b[37m━\u001b[0m \u001b[1m0s\u001b[0m 17ms/step - accuracy: 0.7273 - loss: 0.6099 - top_k_categorical_accuracy: 1.0000\n",
            "Epoch 14: val_accuracy did not improve from 0.75200\n",
            "\u001b[1m157/157\u001b[0m \u001b[32m━━━━━━━━━━━━━━━━━━━━\u001b[0m\u001b[37m\u001b[0m \u001b[1m3s\u001b[0m 18ms/step - accuracy: 0.7273 - loss: 0.6099 - top_k_categorical_accuracy: 1.0000 - val_accuracy: 0.7470 - val_loss: 0.5683 - val_top_k_categorical_accuracy: 1.0000 - learning_rate: 5.1334e-04\n",
            "Epoch 15/50\n",
            "\u001b[1m155/157\u001b[0m \u001b[32m━━━━━━━━━━━━━━━━━━━\u001b[0m\u001b[37m━\u001b[0m \u001b[1m0s\u001b[0m 16ms/step - accuracy: 0.7359 - loss: 0.5989 - top_k_categorical_accuracy: 1.0000\n",
            "Epoch 15: val_accuracy did not improve from 0.75200\n",
            "\u001b[1m157/157\u001b[0m \u001b[32m━━━━━━━━━━━━━━━━━━━━\u001b[0m\u001b[37m\u001b[0m \u001b[1m5s\u001b[0m 17ms/step - accuracy: 0.7359 - loss: 0.5988 - top_k_categorical_accuracy: 1.0000 - val_accuracy: 0.7520 - val_loss: 0.5645 - val_top_k_categorical_accuracy: 1.0000 - learning_rate: 4.8767e-04\n",
            "Epoch 16/50\n",
            "\u001b[1m153/157\u001b[0m \u001b[32m━━━━━━━━━━━━━━━━━━━\u001b[0m\u001b[37m━\u001b[0m \u001b[1m0s\u001b[0m 14ms/step - accuracy: 0.7446 - loss: 0.5873 - top_k_categorical_accuracy: 1.0000\n",
            "Epoch 16: val_accuracy did not improve from 0.75200\n",
            "\u001b[1m157/157\u001b[0m \u001b[32m━━━━━━━━━━━━━━━━━━━━\u001b[0m\u001b[37m\u001b[0m \u001b[1m2s\u001b[0m 15ms/step - accuracy: 0.7446 - loss: 0.5872 - top_k_categorical_accuracy: 1.0000 - val_accuracy: 0.7480 - val_loss: 0.5659 - val_top_k_categorical_accuracy: 1.0000 - learning_rate: 4.6329e-04\n",
            "Epoch 17/50\n",
            "\u001b[1m156/157\u001b[0m \u001b[32m━━━━━━━━━━━━━━━━━━━\u001b[0m\u001b[37m━\u001b[0m \u001b[1m0s\u001b[0m 12ms/step - accuracy: 0.7332 - loss: 0.5814 - top_k_categorical_accuracy: 1.0000\n",
            "Epoch 17: val_accuracy improved from 0.75200 to 0.77300, saving model to best_improved_chatbot.h5\n"
          ]
        },
        {
          "output_type": "stream",
          "name": "stderr",
          "text": [
            "WARNING:absl:You are saving your model as an HDF5 file via `model.save()` or `keras.saving.save_model(model)`. This file format is considered legacy. We recommend using instead the native Keras format, e.g. `model.save('my_model.keras')` or `keras.saving.save_model(model, 'my_model.keras')`. \n"
          ]
        },
        {
          "output_type": "stream",
          "name": "stdout",
          "text": [
            "\b\b\b\b\b\b\b\b\b\b\b\b\b\b\b\b\b\b\b\b\b\b\b\b\b\b\b\b\b\b\b\b\b\b\b\b\b\b\b\b\b\b\b\b\b\b\b\b\b\b\b\b\b\b\b\b\b\b\b\b\b\b\b\b\b\b\b\b\b\b\b\b\b\b\b\b\b\b\b\b\b\b\b\b\b\b\b\b\b\b\b\b\b\b\b\b\b\b\b\b\b\b\b\b\b\b\b\b\b\b\b\b\r\u001b[1m157/157\u001b[0m \u001b[32m━━━━━━━━━━━━━━━━━━━━\u001b[0m\u001b[37m\u001b[0m \u001b[1m2s\u001b[0m 13ms/step - accuracy: 0.7333 - loss: 0.5814 - top_k_categorical_accuracy: 1.0000 - val_accuracy: 0.7730 - val_loss: 0.5470 - val_top_k_categorical_accuracy: 1.0000 - learning_rate: 4.4013e-04\n",
            "Epoch 18/50\n",
            "\u001b[1m157/157\u001b[0m \u001b[32m━━━━━━━━━━━━━━━━━━━━\u001b[0m\u001b[37m\u001b[0m \u001b[1m0s\u001b[0m 16ms/step - accuracy: 0.7473 - loss: 0.5711 - top_k_categorical_accuracy: 1.0000\n",
            "Epoch 18: val_accuracy improved from 0.77300 to 0.78000, saving model to best_improved_chatbot.h5\n"
          ]
        },
        {
          "output_type": "stream",
          "name": "stderr",
          "text": [
            "WARNING:absl:You are saving your model as an HDF5 file via `model.save()` or `keras.saving.save_model(model)`. This file format is considered legacy. We recommend using instead the native Keras format, e.g. `model.save('my_model.keras')` or `keras.saving.save_model(model, 'my_model.keras')`. \n"
          ]
        },
        {
          "output_type": "stream",
          "name": "stdout",
          "text": [
            "\b\b\b\b\b\b\b\b\b\b\b\b\b\b\b\b\b\b\b\b\b\b\b\b\b\b\b\b\b\b\b\b\b\b\b\b\b\b\b\b\b\b\b\b\b\b\b\b\b\b\b\b\b\b\b\b\b\b\b\b\b\b\b\b\b\b\b\b\b\b\b\b\b\b\b\b\b\b\b\b\b\b\b\b\b\b\b\b\b\b\b\b\b\b\b\b\b\b\b\b\b\b\b\b\b\b\b\b\b\b\b\b\r\u001b[1m157/157\u001b[0m \u001b[32m━━━━━━━━━━━━━━━━━━━━\u001b[0m\u001b[37m\u001b[0m \u001b[1m3s\u001b[0m 19ms/step - accuracy: 0.7473 - loss: 0.5711 - top_k_categorical_accuracy: 1.0000 - val_accuracy: 0.7800 - val_loss: 0.5270 - val_top_k_categorical_accuracy: 1.0000 - learning_rate: 4.1812e-04\n",
            "Epoch 19/50\n",
            "\u001b[1m157/157\u001b[0m \u001b[32m━━━━━━━━━━━━━━━━━━━━\u001b[0m\u001b[37m\u001b[0m \u001b[1m0s\u001b[0m 12ms/step - accuracy: 0.7556 - loss: 0.5709 - top_k_categorical_accuracy: 1.0000\n",
            "Epoch 19: val_accuracy improved from 0.78000 to 0.79000, saving model to best_improved_chatbot.h5\n"
          ]
        },
        {
          "output_type": "stream",
          "name": "stderr",
          "text": [
            "WARNING:absl:You are saving your model as an HDF5 file via `model.save()` or `keras.saving.save_model(model)`. This file format is considered legacy. We recommend using instead the native Keras format, e.g. `model.save('my_model.keras')` or `keras.saving.save_model(model, 'my_model.keras')`. \n"
          ]
        },
        {
          "output_type": "stream",
          "name": "stdout",
          "text": [
            "\b\b\b\b\b\b\b\b\b\b\b\b\b\b\b\b\b\b\b\b\b\b\b\b\b\b\b\b\b\b\b\b\b\b\b\b\b\b\b\b\b\b\b\b\b\b\b\b\b\b\b\b\b\b\b\b\b\b\b\b\b\b\b\b\b\b\b\b\b\b\b\b\b\b\b\b\b\b\b\b\b\b\b\b\b\b\b\b\b\b\b\b\b\b\b\b\b\b\b\b\b\b\b\b\b\b\b\b\b\b\b\b\r\u001b[1m157/157\u001b[0m \u001b[32m━━━━━━━━━━━━━━━━━━━━\u001b[0m\u001b[37m\u001b[0m \u001b[1m4s\u001b[0m 14ms/step - accuracy: 0.7556 - loss: 0.5709 - top_k_categorical_accuracy: 1.0000 - val_accuracy: 0.7900 - val_loss: 0.5229 - val_top_k_categorical_accuracy: 1.0000 - learning_rate: 3.9721e-04\n",
            "Epoch 20/50\n",
            "\u001b[1m157/157\u001b[0m \u001b[32m━━━━━━━━━━━━━━━━━━━━\u001b[0m\u001b[37m\u001b[0m \u001b[1m0s\u001b[0m 12ms/step - accuracy: 0.7609 - loss: 0.5527 - top_k_categorical_accuracy: 1.0000\n",
            "Epoch 20: val_accuracy did not improve from 0.79000\n",
            "\u001b[1m157/157\u001b[0m \u001b[32m━━━━━━━━━━━━━━━━━━━━\u001b[0m\u001b[37m\u001b[0m \u001b[1m2s\u001b[0m 13ms/step - accuracy: 0.7609 - loss: 0.5527 - top_k_categorical_accuracy: 1.0000 - val_accuracy: 0.7790 - val_loss: 0.5199 - val_top_k_categorical_accuracy: 1.0000 - learning_rate: 3.7735e-04\n",
            "Epoch 21/50\n",
            "\u001b[1m157/157\u001b[0m \u001b[32m━━━━━━━━━━━━━━━━━━━━\u001b[0m\u001b[37m\u001b[0m \u001b[1m0s\u001b[0m 12ms/step - accuracy: 0.7655 - loss: 0.5467 - top_k_categorical_accuracy: 1.0000\n",
            "Epoch 21: val_accuracy did not improve from 0.79000\n",
            "\u001b[1m157/157\u001b[0m \u001b[32m━━━━━━━━━━━━━━━━━━━━\u001b[0m\u001b[37m\u001b[0m \u001b[1m3s\u001b[0m 13ms/step - accuracy: 0.7655 - loss: 0.5467 - top_k_categorical_accuracy: 1.0000 - val_accuracy: 0.7750 - val_loss: 0.5230 - val_top_k_categorical_accuracy: 1.0000 - learning_rate: 3.5849e-04\n",
            "Epoch 22/50\n",
            "\u001b[1m156/157\u001b[0m \u001b[32m━━━━━━━━━━━━━━━━━━━\u001b[0m\u001b[37m━\u001b[0m \u001b[1m0s\u001b[0m 15ms/step - accuracy: 0.7794 - loss: 0.5326 - top_k_categorical_accuracy: 1.0000\n",
            "Epoch 22: val_accuracy did not improve from 0.79000\n",
            "\u001b[1m157/157\u001b[0m \u001b[32m━━━━━━━━━━━━━━━━━━━━\u001b[0m\u001b[37m\u001b[0m \u001b[1m3s\u001b[0m 17ms/step - accuracy: 0.7794 - loss: 0.5326 - top_k_categorical_accuracy: 1.0000 - val_accuracy: 0.7850 - val_loss: 0.5103 - val_top_k_categorical_accuracy: 1.0000 - learning_rate: 3.4056e-04\n",
            "Epoch 23/50\n",
            "\u001b[1m157/157\u001b[0m \u001b[32m━━━━━━━━━━━━━━━━━━━━\u001b[0m\u001b[37m\u001b[0m \u001b[1m0s\u001b[0m 19ms/step - accuracy: 0.7778 - loss: 0.5345 - top_k_categorical_accuracy: 1.0000\n",
            "Epoch 23: val_accuracy improved from 0.79000 to 0.79300, saving model to best_improved_chatbot.h5\n"
          ]
        },
        {
          "output_type": "stream",
          "name": "stderr",
          "text": [
            "WARNING:absl:You are saving your model as an HDF5 file via `model.save()` or `keras.saving.save_model(model)`. This file format is considered legacy. We recommend using instead the native Keras format, e.g. `model.save('my_model.keras')` or `keras.saving.save_model(model, 'my_model.keras')`. \n"
          ]
        },
        {
          "output_type": "stream",
          "name": "stdout",
          "text": [
            "\b\b\b\b\b\b\b\b\b\b\b\b\b\b\b\b\b\b\b\b\b\b\b\b\b\b\b\b\b\b\b\b\b\b\b\b\b\b\b\b\b\b\b\b\b\b\b\b\b\b\b\b\b\b\b\b\b\b\b\b\b\b\b\b\b\b\b\b\b\b\b\b\b\b\b\b\b\b\b\b\b\b\b\b\b\b\b\b\b\b\b\b\b\b\b\b\b\b\b\b\b\b\b\b\b\b\b\b\b\b\b\b\r\u001b[1m157/157\u001b[0m \u001b[32m━━━━━━━━━━━━━━━━━━━━\u001b[0m\u001b[37m\u001b[0m \u001b[1m6s\u001b[0m 21ms/step - accuracy: 0.7778 - loss: 0.5345 - top_k_categorical_accuracy: 1.0000 - val_accuracy: 0.7930 - val_loss: 0.5139 - val_top_k_categorical_accuracy: 1.0000 - learning_rate: 3.2353e-04\n",
            "Epoch 24/50\n",
            "\u001b[1m153/157\u001b[0m \u001b[32m━━━━━━━━━━━━━━━━━━━\u001b[0m\u001b[37m━\u001b[0m \u001b[1m0s\u001b[0m 12ms/step - accuracy: 0.7828 - loss: 0.5296 - top_k_categorical_accuracy: 1.0000\n",
            "Epoch 24: val_accuracy did not improve from 0.79300\n",
            "\u001b[1m157/157\u001b[0m \u001b[32m━━━━━━━━━━━━━━━━━━━━\u001b[0m\u001b[37m\u001b[0m \u001b[1m4s\u001b[0m 13ms/step - accuracy: 0.7829 - loss: 0.5294 - top_k_categorical_accuracy: 1.0000 - val_accuracy: 0.7890 - val_loss: 0.5039 - val_top_k_categorical_accuracy: 1.0000 - learning_rate: 3.0736e-04\n",
            "Epoch 25/50\n",
            "\u001b[1m157/157\u001b[0m \u001b[32m━━━━━━━━━━━━━━━━━━━━\u001b[0m\u001b[37m\u001b[0m \u001b[1m0s\u001b[0m 14ms/step - accuracy: 0.7933 - loss: 0.5138 - top_k_categorical_accuracy: 1.0000\n",
            "Epoch 25: val_accuracy did not improve from 0.79300\n",
            "\u001b[1m157/157\u001b[0m \u001b[32m━━━━━━━━━━━━━━━━━━━━\u001b[0m\u001b[37m\u001b[0m \u001b[1m2s\u001b[0m 16ms/step - accuracy: 0.7933 - loss: 0.5138 - top_k_categorical_accuracy: 1.0000 - val_accuracy: 0.7920 - val_loss: 0.5014 - val_top_k_categorical_accuracy: 1.0000 - learning_rate: 2.9199e-04\n",
            "Epoch 26/50\n",
            "\u001b[1m157/157\u001b[0m \u001b[32m━━━━━━━━━━━━━━━━━━━━\u001b[0m\u001b[37m\u001b[0m \u001b[1m0s\u001b[0m 17ms/step - accuracy: 0.7906 - loss: 0.5174 - top_k_categorical_accuracy: 1.0000\n",
            "Epoch 26: val_accuracy improved from 0.79300 to 0.79600, saving model to best_improved_chatbot.h5\n"
          ]
        },
        {
          "output_type": "stream",
          "name": "stderr",
          "text": [
            "WARNING:absl:You are saving your model as an HDF5 file via `model.save()` or `keras.saving.save_model(model)`. This file format is considered legacy. We recommend using instead the native Keras format, e.g. `model.save('my_model.keras')` or `keras.saving.save_model(model, 'my_model.keras')`. \n"
          ]
        },
        {
          "output_type": "stream",
          "name": "stdout",
          "text": [
            "\b\b\b\b\b\b\b\b\b\b\b\b\b\b\b\b\b\b\b\b\b\b\b\b\b\b\b\b\b\b\b\b\b\b\b\b\b\b\b\b\b\b\b\b\b\b\b\b\b\b\b\b\b\b\b\b\b\b\b\b\b\b\b\b\b\b\b\b\b\b\b\b\b\b\b\b\b\b\b\b\b\b\b\b\b\b\b\b\b\b\b\b\b\b\b\b\b\b\b\b\b\b\b\b\b\b\b\b\b\b\b\b\r\u001b[1m157/157\u001b[0m \u001b[32m━━━━━━━━━━━━━━━━━━━━\u001b[0m\u001b[37m\u001b[0m \u001b[1m3s\u001b[0m 19ms/step - accuracy: 0.7906 - loss: 0.5174 - top_k_categorical_accuracy: 1.0000 - val_accuracy: 0.7960 - val_loss: 0.4954 - val_top_k_categorical_accuracy: 1.0000 - learning_rate: 2.7739e-04\n",
            "Epoch 27/50\n",
            "\u001b[1m155/157\u001b[0m \u001b[32m━━━━━━━━━━━━━━━━━━━\u001b[0m\u001b[37m━\u001b[0m \u001b[1m0s\u001b[0m 12ms/step - accuracy: 0.8017 - loss: 0.5038 - top_k_categorical_accuracy: 1.0000\n",
            "Epoch 27: val_accuracy did not improve from 0.79600\n",
            "\u001b[1m157/157\u001b[0m \u001b[32m━━━━━━━━━━━━━━━━━━━━\u001b[0m\u001b[37m\u001b[0m \u001b[1m2s\u001b[0m 13ms/step - accuracy: 0.8016 - loss: 0.5040 - top_k_categorical_accuracy: 1.0000 - val_accuracy: 0.7950 - val_loss: 0.5000 - val_top_k_categorical_accuracy: 1.0000 - learning_rate: 2.6352e-04\n",
            "Epoch 28/50\n",
            "\u001b[1m154/157\u001b[0m \u001b[32m━━━━━━━━━━━━━━━━━━━\u001b[0m\u001b[37m━\u001b[0m \u001b[1m0s\u001b[0m 12ms/step - accuracy: 0.8027 - loss: 0.5043 - top_k_categorical_accuracy: 1.0000\n",
            "Epoch 28: val_accuracy improved from 0.79600 to 0.79900, saving model to best_improved_chatbot.h5\n"
          ]
        },
        {
          "output_type": "stream",
          "name": "stderr",
          "text": [
            "WARNING:absl:You are saving your model as an HDF5 file via `model.save()` or `keras.saving.save_model(model)`. This file format is considered legacy. We recommend using instead the native Keras format, e.g. `model.save('my_model.keras')` or `keras.saving.save_model(model, 'my_model.keras')`. \n"
          ]
        },
        {
          "output_type": "stream",
          "name": "stdout",
          "text": [
            "\b\b\b\b\b\b\b\b\b\b\b\b\b\b\b\b\b\b\b\b\b\b\b\b\b\b\b\b\b\b\b\b\b\b\b\b\b\b\b\b\b\b\b\b\b\b\b\b\b\b\b\b\b\b\b\b\b\b\b\b\b\b\b\b\b\b\b\b\b\b\b\b\b\b\b\b\b\b\b\b\b\b\b\b\b\b\b\b\b\b\b\b\b\b\b\b\b\b\b\b\b\b\b\b\b\b\b\b\b\b\b\b\r\u001b[1m157/157\u001b[0m \u001b[32m━━━━━━━━━━━━━━━━━━━━\u001b[0m\u001b[37m\u001b[0m \u001b[1m2s\u001b[0m 14ms/step - accuracy: 0.8025 - loss: 0.5045 - top_k_categorical_accuracy: 1.0000 - val_accuracy: 0.7990 - val_loss: 0.4922 - val_top_k_categorical_accuracy: 1.0000 - learning_rate: 2.5034e-04\n",
            "Epoch 29/50\n",
            "\u001b[1m157/157\u001b[0m \u001b[32m━━━━━━━━━━━━━━━━━━━━\u001b[0m\u001b[37m\u001b[0m \u001b[1m0s\u001b[0m 12ms/step - accuracy: 0.8061 - loss: 0.4929 - top_k_categorical_accuracy: 1.0000\n",
            "Epoch 29: val_accuracy did not improve from 0.79900\n",
            "\u001b[1m157/157\u001b[0m \u001b[32m━━━━━━━━━━━━━━━━━━━━\u001b[0m\u001b[37m\u001b[0m \u001b[1m3s\u001b[0m 14ms/step - accuracy: 0.8061 - loss: 0.4930 - top_k_categorical_accuracy: 1.0000 - val_accuracy: 0.7910 - val_loss: 0.4915 - val_top_k_categorical_accuracy: 1.0000 - learning_rate: 2.3783e-04\n",
            "Epoch 30/50\n",
            "\u001b[1m154/157\u001b[0m \u001b[32m━━━━━━━━━━━━━━━━━━━\u001b[0m\u001b[37m━\u001b[0m \u001b[1m0s\u001b[0m 13ms/step - accuracy: 0.8109 - loss: 0.4909 - top_k_categorical_accuracy: 1.0000\n",
            "Epoch 30: val_accuracy did not improve from 0.79900\n",
            "\u001b[1m157/157\u001b[0m \u001b[32m━━━━━━━━━━━━━━━━━━━━\u001b[0m\u001b[37m\u001b[0m \u001b[1m2s\u001b[0m 14ms/step - accuracy: 0.8108 - loss: 0.4911 - top_k_categorical_accuracy: 1.0000 - val_accuracy: 0.7940 - val_loss: 0.4896 - val_top_k_categorical_accuracy: 1.0000 - learning_rate: 2.2594e-04\n",
            "Epoch 31/50\n",
            "\u001b[1m157/157\u001b[0m \u001b[32m━━━━━━━━━━━━━━━━━━━━\u001b[0m\u001b[37m\u001b[0m \u001b[1m0s\u001b[0m 20ms/step - accuracy: 0.8110 - loss: 0.4886 - top_k_categorical_accuracy: 1.0000\n",
            "Epoch 31: val_accuracy improved from 0.79900 to 0.80200, saving model to best_improved_chatbot.h5\n"
          ]
        },
        {
          "output_type": "stream",
          "name": "stderr",
          "text": [
            "WARNING:absl:You are saving your model as an HDF5 file via `model.save()` or `keras.saving.save_model(model)`. This file format is considered legacy. We recommend using instead the native Keras format, e.g. `model.save('my_model.keras')` or `keras.saving.save_model(model, 'my_model.keras')`. \n"
          ]
        },
        {
          "output_type": "stream",
          "name": "stdout",
          "text": [
            "\b\b\b\b\b\b\b\b\b\b\b\b\b\b\b\b\b\b\b\b\b\b\b\b\b\b\b\b\b\b\b\b\b\b\b\b\b\b\b\b\b\b\b\b\b\b\b\b\b\b\b\b\b\b\b\b\b\b\b\b\b\b\b\b\b\b\b\b\b\b\b\b\b\b\b\b\b\b\b\b\b\b\b\b\b\b\b\b\b\b\b\b\b\b\b\b\b\b\b\b\b\b\b\b\b\b\b\b\b\b\b\b\r\u001b[1m157/157\u001b[0m \u001b[32m━━━━━━━━━━━━━━━━━━━━\u001b[0m\u001b[37m\u001b[0m \u001b[1m4s\u001b[0m 22ms/step - accuracy: 0.8110 - loss: 0.4887 - top_k_categorical_accuracy: 1.0000 - val_accuracy: 0.8020 - val_loss: 0.4895 - val_top_k_categorical_accuracy: 1.0000 - learning_rate: 2.1464e-04\n",
            "Epoch 32/50\n",
            "\u001b[1m157/157\u001b[0m \u001b[32m━━━━━━━━━━━━━━━━━━━━\u001b[0m\u001b[37m\u001b[0m \u001b[1m0s\u001b[0m 13ms/step - accuracy: 0.8095 - loss: 0.4823 - top_k_categorical_accuracy: 1.0000\n",
            "Epoch 32: val_accuracy improved from 0.80200 to 0.80700, saving model to best_improved_chatbot.h5\n"
          ]
        },
        {
          "output_type": "stream",
          "name": "stderr",
          "text": [
            "WARNING:absl:You are saving your model as an HDF5 file via `model.save()` or `keras.saving.save_model(model)`. This file format is considered legacy. We recommend using instead the native Keras format, e.g. `model.save('my_model.keras')` or `keras.saving.save_model(model, 'my_model.keras')`. \n"
          ]
        },
        {
          "output_type": "stream",
          "name": "stdout",
          "text": [
            "\b\b\b\b\b\b\b\b\b\b\b\b\b\b\b\b\b\b\b\b\b\b\b\b\b\b\b\b\b\b\b\b\b\b\b\b\b\b\b\b\b\b\b\b\b\b\b\b\b\b\b\b\b\b\b\b\b\b\b\b\b\b\b\b\b\b\b\b\b\b\b\b\b\b\b\b\b\b\b\b\b\b\b\b\b\b\b\b\b\b\b\b\b\b\b\b\b\b\b\b\b\b\b\b\b\b\b\b\b\b\b\b\r\u001b[1m157/157\u001b[0m \u001b[32m━━━━━━━━━━━━━━━━━━━━\u001b[0m\u001b[37m\u001b[0m \u001b[1m2s\u001b[0m 14ms/step - accuracy: 0.8095 - loss: 0.4823 - top_k_categorical_accuracy: 1.0000 - val_accuracy: 0.8070 - val_loss: 0.4808 - val_top_k_categorical_accuracy: 1.0000 - learning_rate: 2.0391e-04\n",
            "Epoch 33/50\n",
            "\u001b[1m153/157\u001b[0m \u001b[32m━━━━━━━━━━━━━━━━━━━\u001b[0m\u001b[37m━\u001b[0m \u001b[1m0s\u001b[0m 12ms/step - accuracy: 0.8084 - loss: 0.4907 - top_k_categorical_accuracy: 1.0000\n",
            "Epoch 33: val_accuracy did not improve from 0.80700\n",
            "\u001b[1m157/157\u001b[0m \u001b[32m━━━━━━━━━━━━━━━━━━━━\u001b[0m\u001b[37m\u001b[0m \u001b[1m2s\u001b[0m 13ms/step - accuracy: 0.8085 - loss: 0.4907 - top_k_categorical_accuracy: 1.0000 - val_accuracy: 0.7970 - val_loss: 0.4848 - val_top_k_categorical_accuracy: 1.0000 - learning_rate: 1.9371e-04\n",
            "Epoch 34/50\n",
            "\u001b[1m153/157\u001b[0m \u001b[32m━━━━━━━━━━━━━━━━━━━\u001b[0m\u001b[37m━\u001b[0m \u001b[1m0s\u001b[0m 12ms/step - accuracy: 0.8168 - loss: 0.4743 - top_k_categorical_accuracy: 1.0000\n",
            "Epoch 34: val_accuracy did not improve from 0.80700\n",
            "\u001b[1m157/157\u001b[0m \u001b[32m━━━━━━━━━━━━━━━━━━━━\u001b[0m\u001b[37m\u001b[0m \u001b[1m2s\u001b[0m 14ms/step - accuracy: 0.8168 - loss: 0.4745 - top_k_categorical_accuracy: 1.0000 - val_accuracy: 0.7950 - val_loss: 0.4921 - val_top_k_categorical_accuracy: 1.0000 - learning_rate: 1.8403e-04\n",
            "Epoch 35/50\n",
            "\u001b[1m155/157\u001b[0m \u001b[32m━━━━━━━━━━━━━━━━━━━\u001b[0m\u001b[37m━\u001b[0m \u001b[1m0s\u001b[0m 13ms/step - accuracy: 0.8198 - loss: 0.4764 - top_k_categorical_accuracy: 1.0000\n",
            "Epoch 35: val_accuracy did not improve from 0.80700\n",
            "\u001b[1m157/157\u001b[0m \u001b[32m━━━━━━━━━━━━━━━━━━━━\u001b[0m\u001b[37m\u001b[0m \u001b[1m2s\u001b[0m 14ms/step - accuracy: 0.8198 - loss: 0.4764 - top_k_categorical_accuracy: 1.0000 - val_accuracy: 0.7890 - val_loss: 0.4930 - val_top_k_categorical_accuracy: 1.0000 - learning_rate: 1.7482e-04\n",
            "Epoch 36/50\n",
            "\u001b[1m157/157\u001b[0m \u001b[32m━━━━━━━━━━━━━━━━━━━━\u001b[0m\u001b[37m\u001b[0m \u001b[1m0s\u001b[0m 17ms/step - accuracy: 0.8200 - loss: 0.4679 - top_k_categorical_accuracy: 1.0000\n",
            "Epoch 36: val_accuracy did not improve from 0.80700\n",
            "\u001b[1m157/157\u001b[0m \u001b[32m━━━━━━━━━━━━━━━━━━━━\u001b[0m\u001b[37m\u001b[0m \u001b[1m3s\u001b[0m 20ms/step - accuracy: 0.8200 - loss: 0.4679 - top_k_categorical_accuracy: 1.0000 - val_accuracy: 0.7900 - val_loss: 0.4927 - val_top_k_categorical_accuracy: 1.0000 - learning_rate: 1.6608e-04\n",
            "Epoch 37/50\n",
            "\u001b[1m154/157\u001b[0m \u001b[32m━━━━━━━━━━━━━━━━━━━\u001b[0m\u001b[37m━\u001b[0m \u001b[1m0s\u001b[0m 15ms/step - accuracy: 0.8161 - loss: 0.4749 - top_k_categorical_accuracy: 1.0000\n",
            "Epoch 37: val_accuracy did not improve from 0.80700\n",
            "\n",
            "Epoch 37: ReduceLROnPlateau reducing learning rate to 7.888960681157187e-05.\n",
            "\u001b[1m157/157\u001b[0m \u001b[32m━━━━━━━━━━━━━━━━━━━━\u001b[0m\u001b[37m\u001b[0m \u001b[1m2s\u001b[0m 16ms/step - accuracy: 0.8163 - loss: 0.4748 - top_k_categorical_accuracy: 1.0000 - val_accuracy: 0.7910 - val_loss: 0.4978 - val_top_k_categorical_accuracy: 1.0000 - learning_rate: 7.8890e-05\n",
            "Epoch 38/50\n",
            "\u001b[1m157/157\u001b[0m \u001b[32m━━━━━━━━━━━━━━━━━━━━\u001b[0m\u001b[37m\u001b[0m \u001b[1m0s\u001b[0m 12ms/step - accuracy: 0.8141 - loss: 0.4844 - top_k_categorical_accuracy: 1.0000\n",
            "Epoch 38: val_accuracy did not improve from 0.80700\n",
            "\u001b[1m157/157\u001b[0m \u001b[32m━━━━━━━━━━━━━━━━━━━━\u001b[0m\u001b[37m\u001b[0m \u001b[1m2s\u001b[0m 14ms/step - accuracy: 0.8141 - loss: 0.4843 - top_k_categorical_accuracy: 1.0000 - val_accuracy: 0.7910 - val_loss: 0.4922 - val_top_k_categorical_accuracy: 1.0000 - learning_rate: 1.4989e-04\n",
            "Epoch 39/50\n",
            "\u001b[1m157/157\u001b[0m \u001b[32m━━━━━━━━━━━━━━━━━━━━\u001b[0m\u001b[37m\u001b[0m \u001b[1m0s\u001b[0m 13ms/step - accuracy: 0.8168 - loss: 0.4731 - top_k_categorical_accuracy: 1.0000\n",
            "Epoch 39: val_accuracy did not improve from 0.80700\n",
            "\u001b[1m157/157\u001b[0m \u001b[32m━━━━━━━━━━━━━━━━━━━━\u001b[0m\u001b[37m\u001b[0m \u001b[1m3s\u001b[0m 14ms/step - accuracy: 0.8169 - loss: 0.4730 - top_k_categorical_accuracy: 1.0000 - val_accuracy: 0.7900 - val_loss: 0.4947 - val_top_k_categorical_accuracy: 1.0000 - learning_rate: 1.4240e-04\n",
            "Epoch 40/50\n",
            "\u001b[1m157/157\u001b[0m \u001b[32m━━━━━━━━━━━━━━━━━━━━\u001b[0m\u001b[37m\u001b[0m \u001b[1m0s\u001b[0m 13ms/step - accuracy: 0.8266 - loss: 0.4542 - top_k_categorical_accuracy: 1.0000\n",
            "Epoch 40: val_accuracy did not improve from 0.80700\n",
            "\u001b[1m157/157\u001b[0m \u001b[32m━━━━━━━━━━━━━━━━━━━━\u001b[0m\u001b[37m\u001b[0m \u001b[1m3s\u001b[0m 14ms/step - accuracy: 0.8266 - loss: 0.4542 - top_k_categorical_accuracy: 1.0000 - val_accuracy: 0.7890 - val_loss: 0.4913 - val_top_k_categorical_accuracy: 1.0000 - learning_rate: 1.3528e-04\n",
            "Epoch 41/50\n",
            "\u001b[1m157/157\u001b[0m \u001b[32m━━━━━━━━━━━━━━━━━━━━\u001b[0m\u001b[37m\u001b[0m \u001b[1m0s\u001b[0m 17ms/step - accuracy: 0.8237 - loss: 0.4583 - top_k_categorical_accuracy: 1.0000\n",
            "Epoch 41: val_accuracy did not improve from 0.80700\n",
            "\u001b[1m157/157\u001b[0m \u001b[32m━━━━━━━━━━━━━━━━━━━━\u001b[0m\u001b[37m\u001b[0m \u001b[1m3s\u001b[0m 19ms/step - accuracy: 0.8237 - loss: 0.4583 - top_k_categorical_accuracy: 1.0000 - val_accuracy: 0.7920 - val_loss: 0.4915 - val_top_k_categorical_accuracy: 1.0000 - learning_rate: 1.2851e-04\n",
            "Epoch 42/50\n",
            "\u001b[1m155/157\u001b[0m \u001b[32m━━━━━━━━━━━━━━━━━━━\u001b[0m\u001b[37m━\u001b[0m \u001b[1m0s\u001b[0m 16ms/step - accuracy: 0.8300 - loss: 0.4476 - top_k_categorical_accuracy: 1.0000\n",
            "Epoch 42: val_accuracy did not improve from 0.80700\n",
            "\n",
            "Epoch 42: ReduceLROnPlateau reducing learning rate to 6.104327621869743e-05.\n",
            "\u001b[1m157/157\u001b[0m \u001b[32m━━━━━━━━━━━━━━━━━━━━\u001b[0m\u001b[37m\u001b[0m \u001b[1m3s\u001b[0m 16ms/step - accuracy: 0.8300 - loss: 0.4478 - top_k_categorical_accuracy: 1.0000 - val_accuracy: 0.7910 - val_loss: 0.4974 - val_top_k_categorical_accuracy: 1.0000 - learning_rate: 6.1043e-05\n",
            "Epoch 42: early stopping\n",
            "Restoring model weights from the end of the best epoch: 32.\n",
            "✅ Improved training completed!\n"
          ]
        },
        {
          "output_type": "display_data",
          "data": {
            "text/plain": [
              "<Figure size 1500x1000 with 4 Axes>"
            ],
            "image/png": "[encoded data removed]"
          },
          "metadata": {}
        }
      ]
    },
    {
      "cell_type": "markdown",
      "source": [
        "# ***Model Evaluation & Performance Metrics***\n",
        "Evaluation Components:\n",
        "\n",
        "Prediction Accuracy: Overall correctness\n",
        "Confidence Analysis: Prediction certainty\n",
        "Error Analysis: Understanding failure cases\n",
        "Sample Predictions: Qualitative assessment\n"
      ],
      "metadata": {
        "id": "LtJTNPEmIXYP"
      }
    },
    {
      "cell_type": "code",
      "source": [
        "def evaluate_model_performance(model, inputs_test, queries_test, answers_test,\n",
        "                             test_data, tokenizer):\n",
        "    \"\"\"Comprehensive model evaluation\"\"\"\n",
        "\n",
        "    print(\"📊 Evaluating model performance...\")\n",
        "\n",
        "    # Get predictions\n",
        "    pred_results = model.predict([inputs_test, queries_test])\n",
        "\n",
        "    # Calculate accuracy\n",
        "    predicted_classes = np.argmax(pred_results, axis=1)\n",
        "    true_classes = np.argmax(answers_test, axis=1)\n",
        "    accuracy = accuracy_score(true_classes, predicted_classes)\n",
        "\n",
        "    print(f\"🎯 Model Performance:\")\n",
        "    print(f\"Overall Accuracy: {accuracy:.4f}\")\n",
        "\n",
        "    # Detailed classification report\n",
        "    print(\"\\n📈 Detailed Classification Report:\")\n",
        "\n",
        "    # Get class names\n",
        "    class_names = []\n",
        "    for idx in [tokenizer.word_index['yes'], tokenizer.word_index['no']]:\n",
        "        for word, word_idx in tokenizer.word_index.items():\n",
        "            if word_idx == idx:\n",
        "                class_names.append(word)\n",
        "\n",
        "    print(classification_report(true_classes, predicted_classes,\n",
        "                              target_names=class_names))\n",
        "\n",
        "    # Confusion Matrix\n",
        "    plt.figure(figsize=(8, 6))\n",
        "    cm = confusion_matrix(true_classes, predicted_classes)\n",
        "    sns.heatmap(cm, annot=True, fmt='d', cmap='Blues',\n",
        "                xticklabels=class_names, yticklabels=class_names)\n",
        "    plt.title('Confusion Matrix')\n",
        "    plt.ylabel('True Label')\n",
        "    plt.xlabel('Predicted Label')\n",
        "    plt.show()\n",
        "\n",
        "    return pred_results, accuracy\n",
        "\n",
        "def analyze_confidence_distribution(pred_results):\n",
        "    \"\"\"Analyze prediction confidence\"\"\"\n",
        "\n",
        "    # Get maximum probabilities (confidence scores)\n",
        "    confidence_scores = np.max(pred_results, axis=1)\n",
        "\n",
        "    plt.figure(figsize=(12, 4))\n",
        "\n",
        "    plt.subplot(1, 2, 1)\n",
        "    plt.hist(confidence_scores, bins=20, alpha=0.7, color='lightgreen')\n",
        "    plt.title('Distribution of Prediction Confidence')\n",
        "    plt.xlabel('Confidence Score')\n",
        "    plt.ylabel('Frequency')\n",
        "    plt.axvline(np.mean(confidence_scores), color='red', linestyle='--',\n",
        "                label=f'Mean: {np.mean(confidence_scores):.3f}')\n",
        "    plt.legend()\n",
        "\n",
        "    plt.subplot(1, 2, 2)\n",
        "    plt.boxplot(confidence_scores)\n",
        "    plt.title('Confidence Score Statistics')\n",
        "    plt.ylabel('Confidence Score')\n",
        "\n",
        "    plt.tight_layout()\n",
        "    plt.show()\n",
        "\n",
        "    print(f\"📊 Confidence Statistics:\")\n",
        "    print(f\"Mean Confidence: {np.mean(confidence_scores):.4f}\")\n",
        "    print(f\"Std Confidence: {np.std(confidence_scores):.4f}\")\n",
        "    print(f\"Min Confidence: {np.min(confidence_scores):.4f}\")\n",
        "    print(f\"Max Confidence: {np.max(confidence_scores):.4f}\")\n",
        "\n",
        "def show_sample_predictions(model, test_data, inputs_test, queries_test,\n",
        "                           tokenizer, num_samples=5):\n",
        "    \"\"\"Display sample predictions with context\"\"\"\n",
        "\n",
        "    print(\"🔍 Sample Predictions Analysis:\")\n",
        "    print(\"=\" * 60)\n",
        "\n",
        "    pred_results = model.predict([inputs_test, queries_test])\n",
        "\n",
        "    for i in range(min(num_samples, len(test_data))):\n",
        "        # Get story and question\n",
        "        story = ' '.join(test_data[i][0])\n",
        "        question = ' '.join(test_data[i][1])\n",
        "        true_answer = test_data[i][2] # Accessing the answer from the tuple\n",
        "\n",
        "        # Get predicted answer\n",
        "        pred_idx = np.argmax(pred_results[i])\n",
        "        confidence = pred_results[i][pred_idx]\n",
        "\n",
        "        pred_answer = None\n",
        "        for word, idx in tokenizer.word_index.items():\n",
        "            if idx == pred_idx:\n",
        "                pred_answer = word\n",
        "                break\n",
        "\n",
        "        # Display results\n",
        "        print(f\"\\n📖 Example {i + 1}:\")\n",
        "        print(f\"Story: {story}\")\n",
        "        print(f\"Question: {question}\")\n",
        "        print(f\"True Answer: {true_answer}\")\n",
        "        print(f\"Predicted Answer: {pred_answer}\")\n",
        "        print(f\"Confidence: {confidence:.4f}\")\n",
        "\n",
        "        # Status indicator\n",
        "        status = \"✅ CORRECT\" if pred_answer == true_answer else \"❌ INCORRECT\"\n",
        "        print(f\"Status: {status}\")\n",
        "        print(\"-\" * 60)\n",
        "\n",
        "pred_results, accuracy = evaluate_model_performance(improved_model, inputs_test, queries_test,answers_test, Test_data, tokenizer)\n",
        "analyze_confidence_distribution(pred_results)\n",
        "show_sample_predictions(improved_model, Test_data, inputs_test, queries_test, tokenizer)"
      ],
      "metadata": {
        "colab": {
          "base_uri": "https://localhost:8080/",
          "height": 1791
        },
        "id": "obqLATYmInDX",
        "outputId": "b0ce3648-029e-48fb-96aa-4ac6e59a1524"
      },
      "execution_count": 18,
      "outputs": [
        {
          "output_type": "stream",
          "name": "stdout",
          "text": [
            "📊 Evaluating model performance...\n",
            "\u001b[1m32/32\u001b[0m \u001b[32m━━━━━━━━━━━━━━━━━━━━\u001b[0m\u001b[37m\u001b[0m \u001b[1m1s\u001b[0m 13ms/step\n",
            "🎯 Model Performance:\n",
            "Overall Accuracy: 0.8070\n",
            "\n",
            "📈 Detailed Classification Report:\n",
            "              precision    recall  f1-score   support\n",
            "\n",
            "         yes       0.80      0.82      0.81       497\n",
            "          no       0.82      0.79      0.80       503\n",
            "\n",
            "    accuracy                           0.81      1000\n",
            "   macro avg       0.81      0.81      0.81      1000\n",
            "weighted avg       0.81      0.81      0.81      1000\n",
            "\n"
          ]
        },
        {
          "output_type": "display_data",
          "data": {
            "text/plain": [
              "<Figure size 800x600 with 2 Axes>"
            ],
            "image/png": "[encoded data removed]"
          },
          "metadata": {}
        },
        {
          "output_type": "display_data",
          "data": {
            "text/plain": [
              "<Figure size 1200x400 with 2 Axes>"
            ],
            "image/png": "[encoded data removed]"
          },
          "metadata": {}
        },
        {
          "output_type": "stream",
          "name": "stdout",
          "text": [
            "📊 Confidence Statistics:\n",
            "Mean Confidence: 0.8049\n",
            "Std Confidence: 0.1270\n",
            "Min Confidence: 0.4995\n",
            "Max Confidence: 0.9704\n",
            "🔍 Sample Predictions Analysis:\n",
            "============================================================\n",
            "\u001b[1m32/32\u001b[0m \u001b[32m━━━━━━━━━━━━━━━━━━━━\u001b[0m\u001b[37m\u001b[0m \u001b[1m0s\u001b[0m 4ms/step\n",
            "\n",
            "📖 Example 1:\n",
            "Story: Mary got the milk there . John moved to the bedroom .\n",
            "Question: Is John in the kitchen ?\n",
            "True Answer: no\n",
            "Predicted Answer: no\n",
            "Confidence: 0.8361\n",
            "Status: ✅ CORRECT\n",
            "------------------------------------------------------------\n",
            "\n",
            "📖 Example 2:\n",
            "Story: Mary got the milk there . John moved to the bedroom . Mary discarded the milk . John went to the garden .\n",
            "Question: Is John in the kitchen ?\n",
            "True Answer: no\n",
            "Predicted Answer: no\n",
            "Confidence: 0.5730\n",
            "Status: ✅ CORRECT\n",
            "------------------------------------------------------------\n",
            "\n",
            "📖 Example 3:\n",
            "Story: Mary got the milk there . John moved to the bedroom . Mary discarded the milk . John went to the garden . Daniel moved to the bedroom . Daniel went to the garden .\n",
            "Question: Is John in the garden ?\n",
            "True Answer: yes\n",
            "Predicted Answer: yes\n",
            "Confidence: 0.9037\n",
            "Status: ✅ CORRECT\n",
            "------------------------------------------------------------\n",
            "\n",
            "📖 Example 4:\n",
            "Story: Mary got the milk there . John moved to the bedroom . Mary discarded the milk . John went to the garden . Daniel moved to the bedroom . Daniel went to the garden . Daniel travelled to the bathroom . Sandra travelled to the bedroom .\n",
            "Question: Is Daniel in the bathroom ?\n",
            "True Answer: yes\n",
            "Predicted Answer: no\n",
            "Confidence: 0.6371\n",
            "Status: ❌ INCORRECT\n",
            "------------------------------------------------------------\n",
            "\n",
            "📖 Example 5:\n",
            "Story: Mary got the milk there . John moved to the bedroom . Mary discarded the milk . John went to the garden . Daniel moved to the bedroom . Daniel went to the garden . Daniel travelled to the bathroom . Sandra travelled to the bedroom . Mary took the football there . Sandra grabbed the milk there .\n",
            "Question: Is Daniel in the bedroom ?\n",
            "True Answer: no\n",
            "Predicted Answer: yes\n",
            "Confidence: 0.7956\n",
            "Status: ❌ INCORRECT\n",
            "------------------------------------------------------------\n"
          ]
        }
      ]
    },
    {
      "cell_type": "code",
      "metadata": {
        "colab": {
          "base_uri": "https://localhost:8080/",
          "height": 0
        },
        "id": "89aabca4",
        "outputId": "b6736f7a-f1a4-43b2-b272-f3fb9f6c3a3f"
      },
      "source": [
        "# COMPREHENSIVE EVALUATION METRICS\n",
        "def evaluate_comprehensive_metrics(model, inputs_test, queries_test, answers_test,\n",
        "                                  test_data, tokenizer):\n",
        "    \"\"\"Enhanced evaluation with multiple metrics\"\"\"\n",
        "\n",
        "    print(\"📊 Comprehensive Model Evaluation...\")\n",
        "\n",
        "    # Get predictions\n",
        "    pred_results = model.predict([inputs_test, queries_test])\n",
        "\n",
        "    # Calculate multiple metrics\n",
        "    predicted_classes = np.argmax(pred_results, axis=1)\n",
        "    true_classes = np.argmax(answers_test, axis=1)\n",
        "\n",
        "    accuracy = accuracy_score(true_classes, predicted_classes)\n",
        "\n",
        "    # Calculate confidence statistics\n",
        "    confidence_scores = np.max(pred_results, axis=1)\n",
        "    avg_confidence = np.mean(confidence_scores)\n",
        "\n",
        "    # Calculate class-wise performance\n",
        "    from sklearn.metrics import precision_score, recall_score, f1_score\n",
        "\n",
        "    # Handle potential zero division for precision, recall, f1\n",
        "    precision = precision_score(true_classes, predicted_classes, average='weighted', zero_division=0)\n",
        "    recall = recall_score(true_classes, predicted_classes, average='weighted', zero_division=0)\n",
        "    f1 = f1_score(true_classes, predicted_classes, average='weighted', zero_division=0)\n",
        "\n",
        "\n",
        "    print(f\"🎯 COMPREHENSIVE PERFORMANCE METRICS:\")\n",
        "    print(f\"Overall Accuracy: {accuracy:.4f}\")\n",
        "    print(f\"Precision (Weighted): {precision:.4f}\")\n",
        "    print(f\"Recall (Weighted): {recall:.4f}\")\n",
        "    print(f\"F1-Score (Weighted): {f1:.4f}\")\n",
        "    print(f\"Average Confidence: {avg_confidence:.4f}\")\n",
        "\n",
        "    # For CV/Resume mention:\n",
        "    print(f\"\\n📝 FOR CV/RESUME:\")\n",
        "    print(f\"• Achieved {accuracy*100:.1f}% accuracy on question-answering task\")\n",
        "    print(f\"• F1-Score: {f1:.3f} with {avg_confidence*100:.1f}% average confidence\")\n",
        "    print(f\"• Implemented attention-based Memory Network with BiLSTM-GRU architecture\")\n",
        "\n",
        "    return pred_results, accuracy, precision, recall, f1, avg_confidence\n",
        "\n",
        "# Evaluate the improved model comprehensively\n",
        "evaluate_comprehensive_metrics(improved_model, inputs_test, queries_test, answers_test, Test_data, tokenizer)"
      ],
      "execution_count": 20,
      "outputs": [
        {
          "output_type": "stream",
          "name": "stdout",
          "text": [
            "📊 Comprehensive Model Evaluation...\n",
            "\u001b[1m32/32\u001b[0m \u001b[32m━━━━━━━━━━━━━━━━━━━━\u001b[0m\u001b[37m\u001b[0m \u001b[1m0s\u001b[0m 3ms/step\n",
            "🎯 COMPREHENSIVE PERFORMANCE METRICS:\n",
            "Overall Accuracy: 0.8070\n",
            "Precision (Weighted): 0.8074\n",
            "Recall (Weighted): 0.8070\n",
            "F1-Score (Weighted): 0.8070\n",
            "Average Confidence: 0.8049\n",
            "\n",
            "📝 FOR CV/RESUME:\n",
            "• Achieved 80.7% accuracy on question-answering task\n",
            "• F1-Score: 0.807 with 80.5% average confidence\n",
            "• Implemented attention-based Memory Network with BiLSTM-GRU architecture\n"
          ]
        },
        {
          "output_type": "execute_result",
          "data": {
            "text/plain": [
              "(array([[4.98454392e-05, 4.92599756e-05, 5.03362717e-05, ...,\n",
              "         8.36134851e-01, 4.86078134e-05, 4.97050678e-05],\n",
              "        [6.21323779e-05, 6.13887241e-05, 6.27904737e-05, ...,\n",
              "         5.73003173e-01, 6.05468231e-05, 6.19497878e-05],\n",
              "        [3.13870878e-05, 3.10008909e-05, 3.17592167e-05, ...,\n",
              "         9.52202156e-02, 3.05533504e-05, 3.12909106e-05],\n",
              "        ...,\n",
              "        [3.50850642e-05, 3.46783272e-05, 3.54131225e-05, ...,\n",
              "         9.36044514e-01, 3.42295971e-05, 3.49885340e-05],\n",
              "        [3.39718899e-05, 3.35546574e-05, 3.43714528e-05, ...,\n",
              "         1.10136345e-01, 3.30713847e-05, 3.38680802e-05],\n",
              "        [4.47625644e-05, 4.42181590e-05, 4.52707791e-05, ...,\n",
              "         2.01062396e-01, 4.35947732e-05, 4.46291051e-05]], dtype=float32),\n",
              " 0.807,\n",
              " 0.8073945733455029,\n",
              " 0.807,\n",
              " 0.8069639046324605,\n",
              " np.float32(0.8048741))"
            ]
          },
          "metadata": {},
          "execution_count": 20
        }
      ]
    }
  ]
}